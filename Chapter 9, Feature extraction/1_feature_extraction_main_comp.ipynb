{
 "cells": [
  {
   "metadata": {},
   "cell_type": "markdown",
   "source": [
    "# Снижение размерности с помощью выделения признаков\n",
    "\n",
    "### Введение\n",
    "Наши наблюдения могут принимать огромное количество различных конфигураций. Это порождает проблемы, потому что наши обучающиеся <br>\n",
    "алгоритмы не будут иметь достаточно данных для правильной работы. <br><br>\n",
    "Не все признаки создаются равными, выделение признаков для снижения размерности имеет совершенно конкретную цель - <br>\n",
    "преобразование нашего набора признаков p_исх таким образом, чтобы в конечном итоге прийти к новому набору p_нов, где p_исх > p_нов,<br>\n",
    "сохраняя при этом подавляющую часть исходной информации. Мы уменьшаем количество признаков с небольшой потерей способности <br>\n",
    "наших данных генерировать высококачественные предсказания."
   ],
   "id": "364f30f98253eec3"
  },
  {
   "metadata": {},
   "cell_type": "markdown",
   "source": "### Снижение признаков с помощью главных компонент",
   "id": "66b4fd75e4339c54"
  },
  {
   "metadata": {
    "ExecuteTime": {
     "end_time": "2025-10-16T13:01:49.039362Z",
     "start_time": "2025-10-16T13:01:49.013507Z"
    }
   },
   "cell_type": "code",
   "source": [
    "from sklearn.preprocessing import StandardScaler\n",
    "from sklearn.decomposition import PCA\n",
    "from sklearn import datasets\n",
    "\n",
    "digits = datasets.load_digits()\n",
    "features = StandardScaler().fit_transform(digits.data)\n",
    "pca = PCA(n_components=0.99, whiten=True)\n",
    "features_pca = pca.fit_transform(features)\n",
    "print(\"Исходное кол-во признаков:\", features.shape[1])\n",
    "print(\"Сокращенное кол-во признаков:\", features_pca.shape[1])"
   ],
   "id": "c9d887debba2e56d",
   "outputs": [
    {
     "name": "stdout",
     "output_type": "stream",
     "text": [
      "Исходное кол-во признаков: 64\n",
      "Сокращенное кол-во признаков: 54\n"
     ]
    }
   ],
   "execution_count": 3
  },
  {
   "metadata": {},
   "cell_type": "markdown",
   "source": "### Уменьшение количества признаков, когда данные линейно неразделимы",
   "id": "f95201e1284c968"
  },
  {
   "metadata": {
    "ExecuteTime": {
     "end_time": "2025-10-16T14:18:14.120574Z",
     "start_time": "2025-10-16T14:18:14.038718Z"
    }
   },
   "cell_type": "code",
   "source": [
    "from sklearn.decomposition import PCA, KernelPCA\n",
    "from sklearn.datasets import make_circles\n",
    "features, _ = make_circles(n_samples=1000, random_state=1, noise=0.1, factor=0.1)\n",
    "\n",
    "kpca = KernelPCA(kernel=\"rbf\", gamma=15, n_components=1)\n",
    "features_kpca = kpca.fit_transform(features)\n",
    "\n",
    "print(\"Исходное кол-во признаков:\", features.shape[1])\n",
    "print(\"Сокращенное количество признаков:\", features_kpca.shape[1])"
   ],
   "id": "3c784622f377e958",
   "outputs": [
    {
     "name": "stdout",
     "output_type": "stream",
     "text": [
      "Исходное кол-во признаков: 2\n",
      "Сокращенное количество признаков: 1\n"
     ]
    }
   ],
   "execution_count": 4
  },
  {
   "metadata": {},
   "cell_type": "markdown",
   "source": [
    "Метод Анализа Главных Компонент (PCA) способен уменьшить размерность нашей матрицы признаков. <br>\n",
    "Если данные линейно разделимы, т.е. мы можем прочертить прямую или гиперплоскость между 2 разными классами, то PCA работает хорошо. <br>\n",
    "Однако, если данные не являются линейно разделимыми, мы можем разделить классы только с помощью изогнутой границы решения, <br>\n",
    "линейное преобразование работать не будет. <br><br>\n",
    "В готовой библиотеке make_circles круг данных находится в другом круге данных. Использовать PCA нельзя, <br>\n",
    "потому что данные переплетены. <br>\n",
    "Ядерный PCA способен сокращать размерности и делает данные линейно разделимыми."
   ],
   "id": "99e2f12ab7ef0f6a"
  },
  {
   "metadata": {},
   "cell_type": "code",
   "outputs": [],
   "execution_count": null,
   "source": "",
   "id": "5c4055f3525f49df"
  }
 ],
 "metadata": {
  "kernelspec": {
   "display_name": "Python 3",
   "language": "python",
   "name": "python3"
  },
  "language_info": {
   "codemirror_mode": {
    "name": "ipython",
    "version": 2
   },
   "file_extension": ".py",
   "mimetype": "text/x-python",
   "name": "python",
   "nbconvert_exporter": "python",
   "pygments_lexer": "ipython2",
   "version": "2.7.6"
  }
 },
 "nbformat": 4,
 "nbformat_minor": 5
}
