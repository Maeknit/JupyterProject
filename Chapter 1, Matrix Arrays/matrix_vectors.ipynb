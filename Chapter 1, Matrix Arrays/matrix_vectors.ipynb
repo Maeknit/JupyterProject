{
 "cells": [
  {
   "metadata": {},
   "cell_type": "code",
   "outputs": [],
   "execution_count": null,
   "source": "print(\"Hello World!\")",
   "id": "fbc121e30a2defb3"
  },
  {
   "metadata": {
    "ExecuteTime": {
     "end_time": "2025-09-23T07:37:11.027815Z",
     "start_time": "2025-09-23T07:37:11.018921Z"
    }
   },
   "cell_type": "code",
   "source": [
    "for countdown in 5,4,3,2,1, \"hey!\":\n",
    "    print(countdown)"
   ],
   "id": "3f0250f71fedf998",
   "outputs": [
    {
     "name": "stdout",
     "output_type": "stream",
     "text": [
      "5\n",
      "4\n",
      "3\n",
      "2\n",
      "1\n",
      "hey!\n"
     ]
    }
   ],
   "execution_count": 1
  },
  {
   "metadata": {
    "ExecuteTime": {
     "end_time": "2025-09-23T07:45:06.045752Z",
     "start_time": "2025-09-23T07:45:06.040207Z"
    }
   },
   "cell_type": "code",
   "source": [
    "quotes = {\n",
    "    \"moe\": \"a wise guy\",\n",
    "    \"larry\": \"ow\",\n",
    "    \"Curly\": \"Nyuk nyuk!\",\n",
    "}\n",
    "stooge = \"Curly\"\n",
    "print(stooge, \"says:\", quotes[stooge])"
   ],
   "id": "8b3cbfe69448a7bf",
   "outputs": [
    {
     "name": "stdout",
     "output_type": "stream",
     "text": [
      "Curly says: Nyuk nyuk!\n"
     ]
    }
   ],
   "execution_count": 2
  },
  {
   "metadata": {
    "ExecuteTime": {
     "end_time": "2025-09-23T08:05:44.608715Z",
     "start_time": "2025-09-23T08:05:44.603912Z"
    }
   },
   "cell_type": "code",
   "source": "print(8*9)",
   "id": "a6b2dc70c7c339f3",
   "outputs": [
    {
     "name": "stdout",
     "output_type": "stream",
     "text": [
      "72\n"
     ]
    }
   ],
   "execution_count": 3
  },
  {
   "metadata": {
    "ExecuteTime": {
     "end_time": "2025-09-23T08:11:50.366914Z",
     "start_time": "2025-09-23T08:11:50.361888Z"
    }
   },
   "cell_type": "code",
   "source": [
    "import sys\n",
    "\n",
    "for n in [0, 1, 256, 1000, 2**30, 2**100]:\n",
    "    print(f\"{n} → {sys.getsizeof(n)} байт\")\n"
   ],
   "id": "66c5100b6f101879",
   "outputs": [
    {
     "name": "stdout",
     "output_type": "stream",
     "text": [
      "0 → 28 байт\n",
      "1 → 28 байт\n",
      "256 → 28 байт\n",
      "1000 → 28 байт\n",
      "1073741824 → 32 байт\n",
      "1267650600228229401496703205376 → 40 байт\n"
     ]
    }
   ],
   "execution_count": 5
  },
  {
   "metadata": {
    "ExecuteTime": {
     "end_time": "2025-09-23T11:56:57.791535Z",
     "start_time": "2025-09-23T11:56:57.787117Z"
    }
   },
   "cell_type": "code",
   "source": [
    "import numpy as np\n",
    "vector_row = np.array({1,2,3})\n",
    "print(vector_row)\n",
    "vector_column = np.array([[1],\n",
    "                         [2],\n",
    "                         [3]])\n",
    "print(vector_column)"
   ],
   "id": "9cbcc1e20cb91a3",
   "outputs": [
    {
     "name": "stdout",
     "output_type": "stream",
     "text": [
      "{1, 2, 3}\n",
      "[[1]\n",
      " [2]\n",
      " [3]]\n"
     ]
    }
   ],
   "execution_count": 59
  },
  {
   "metadata": {
    "ExecuteTime": {
     "end_time": "2025-09-23T08:56:32.472484Z",
     "start_time": "2025-09-23T08:56:32.468484Z"
    }
   },
   "cell_type": "code",
   "source": [
    "import numpy as np\n",
    "matrix = np.array([[1,2],\n",
    "                  [1,2],\n",
    "                  [1,2]])\n",
    "print(matrix)"
   ],
   "id": "ac2bf6fb00f13abf",
   "outputs": [
    {
     "name": "stdout",
     "output_type": "stream",
     "text": [
      "[[1 2]\n",
      " [1 2]\n",
      " [1 2]]\n"
     ]
    }
   ],
   "execution_count": 14
  },
  {
   "metadata": {
    "ExecuteTime": {
     "end_time": "2025-09-23T09:37:36.067875Z",
     "start_time": "2025-09-23T09:37:33.833349Z"
    }
   },
   "cell_type": "code",
   "source": [
    "import numpy as np\n",
    "import matplotlib.pyplot as plt\n",
    "\n",
    "print(np.__version__)\n",
    "\n",
    "x = np.linspace(0, 10, 100)\n",
    "y = np.sin(x)\n",
    "\n",
    "plt.plot(x, y)\n",
    "plt.show()"
   ],
   "id": "25ef7c19235a0f2f",
   "outputs": [
    {
     "name": "stdout",
     "output_type": "stream",
     "text": [
      "2.3.3\n"
     ]
    },
    {
     "data": {
      "text/plain": [
       "<Figure size 640x480 with 1 Axes>"
      ],
      "image/png": "[encoded data removed]"
     },
     "metadata": {},
     "output_type": "display_data",
     "jetTransient": {
      "display_id": null
     }
    }
   ],
   "execution_count": 16
  },
  {
   "metadata": {
    "ExecuteTime": {
     "end_time": "2025-09-23T09:39:24.677325Z",
     "start_time": "2025-09-23T09:39:24.672558Z"
    }
   },
   "cell_type": "code",
   "source": [
    "import numpy as np\n",
    "from scipy import sparse\n",
    "matrix = np.array([[0,0],\n",
    "                   [0,1],\n",
    "                   [3,0]])\n",
    "matrix_sparse = sparse.csr_matrix(matrix)\n",
    "print(matrix_sparse)"
   ],
   "id": "949cd5c7391eb59c",
   "outputs": [
    {
     "name": "stdout",
     "output_type": "stream",
     "text": [
      "<Compressed Sparse Row sparse matrix of dtype 'int64'\n",
      "\twith 2 stored elements and shape (3, 2)>\n",
      "  Coords\tValues\n",
      "  (1, 1)\t1\n",
      "  (2, 0)\t3\n"
     ]
    }
   ],
   "execution_count": 18
  },
  {
   "metadata": {
    "ExecuteTime": {
     "end_time": "2025-09-23T09:48:08.173310Z",
     "start_time": "2025-09-23T09:48:06.807836Z"
    }
   },
   "cell_type": "code",
   "source": [
    "from sklearn.feature_extraction.text import CountVectorizer\n",
    "\n",
    "docs = [\n",
    "    \"машинное обучение это круто\",\n",
    "    \"обучение нейросети на данных\",\n",
    "    \"данные это топливо для AI\"\n",
    "]\n",
    "\n",
    "vectorizer = CountVectorizer()\n",
    "X = vectorizer.fit_transform(docs)\n",
    "\n",
    "print(\"Тип:\", type(X))\n",
    "print(\"Размерность:\", X.shape)\n",
    "print(\"Разреженная матрица:\\n\", X)\n",
    "\n",
    "print(\"\\nСлова:\", vectorizer.get_feature_names_out())\n",
    "print(\"\\nПлотный массив:\\n\", X.toarray())\n"
   ],
   "id": "b7f99ff460e86078",
   "outputs": [
    {
     "name": "stdout",
     "output_type": "stream",
     "text": [
      "Тип: <class 'scipy.sparse._csr.csr_matrix'>\n",
      "Размерность: (3, 11)\n",
      "Разреженная матрица:\n",
      " <Compressed Sparse Row sparse matrix of dtype 'int64'\n",
      "\twith 13 stored elements and shape (3, 11)>\n",
      "  Coords\tValues\n",
      "  (0, 5)\t1\n",
      "  (0, 8)\t1\n",
      "  (0, 10)\t1\n",
      "  (0, 4)\t1\n",
      "  (1, 8)\t1\n",
      "  (1, 7)\t1\n",
      "  (1, 6)\t1\n",
      "  (1, 2)\t1\n",
      "  (2, 10)\t1\n",
      "  (2, 1)\t1\n",
      "  (2, 9)\t1\n",
      "  (2, 3)\t1\n",
      "  (2, 0)\t1\n",
      "\n",
      "Слова: ['ai' 'данные' 'данных' 'для' 'круто' 'машинное' 'на' 'нейросетей'\n",
      " 'обучение' 'топливо' 'это']\n",
      "\n",
      "Плотный массив:\n",
      " [[0 0 0 0 1 1 0 0 1 0 1]\n",
      " [0 0 1 0 0 0 1 1 1 0 0]\n",
      " [1 1 0 1 0 0 0 0 0 1 1]]\n"
     ]
    }
   ],
   "execution_count": 19
  },
  {
   "metadata": {
    "ExecuteTime": {
     "end_time": "2025-09-23T09:49:27.006220Z",
     "start_time": "2025-09-23T09:49:26.999801Z"
    }
   },
   "cell_type": "code",
   "source": [
    "from scipy import sparse\n",
    "\n",
    "# 5 пользователей, связи между ними\n",
    "adj_matrix = np.array([\n",
    "    [0, 1, 0, 0, 0],  # user 0 связан с user 1\n",
    "    [1, 0, 1, 0, 0],  # user 1 с 0 и 2\n",
    "    [0, 1, 0, 0, 1],  # user 2 с 1 и 4\n",
    "    [0, 0, 0, 0, 0],  # user 3 ни с кем\n",
    "    [0, 0, 1, 0, 0],  # user 4 с 2\n",
    "])\n",
    "\n",
    "sparse_adj = sparse.csr_matrix(adj_matrix)\n",
    "print(sparse_adj)\n"
   ],
   "id": "c612ef126825890",
   "outputs": [
    {
     "name": "stdout",
     "output_type": "stream",
     "text": [
      "<Compressed Sparse Row sparse matrix of dtype 'int64'\n",
      "\twith 6 stored elements and shape (5, 5)>\n",
      "  Coords\tValues\n",
      "  (0, 1)\t1\n",
      "  (1, 0)\t1\n",
      "  (1, 2)\t1\n",
      "  (2, 1)\t1\n",
      "  (2, 4)\t1\n",
      "  (4, 2)\t1\n"
     ]
    }
   ],
   "execution_count": 20
  },
  {
   "metadata": {
    "ExecuteTime": {
     "end_time": "2025-09-23T10:02:01.233664Z",
     "start_time": "2025-09-23T10:02:01.197657Z"
    }
   },
   "cell_type": "code",
   "source": [
    "vector = np.array([1, 2, 3, 4, 5, 6])\n",
    "matrix = np.array([[1, 2, 3],\n",
    "[4, 5, 6],\n",
    "[7, 8, 9]])\n",
    "print(vector[:])\n",
    "print(vector[:3])\n",
    "print(vector[3:])\n",
    "print(vector[-1])\n",
    "vector2 = matrix[:,1:2]\n",
    "print(vector2)"
   ],
   "id": "3abf734fb3ad9154",
   "outputs": [
    {
     "name": "stdout",
     "output_type": "stream",
     "text": [
      "[1 2 3 4 5 6]\n",
      "[1 2 3]\n",
      "[4 5 6]\n",
      "6\n",
      "[[2]\n",
      " [5]\n",
      " [8]]\n"
     ]
    }
   ],
   "execution_count": 26
  },
  {
   "metadata": {
    "ExecuteTime": {
     "end_time": "2025-09-23T10:55:34.796140Z",
     "start_time": "2025-09-23T10:55:34.789664Z"
    }
   },
   "cell_type": "code",
   "source": [
    "matrix = np.array([[1, 2, 3, 4],\n",
    "                   [5, 6, 7, 8],\n",
    "                   [9, 10, 11, 12]])\n",
    "matrix.size"
   ],
   "id": "8769a7cc190d470a",
   "outputs": [
    {
     "data": {
      "text/plain": [
       "12"
      ]
     },
     "execution_count": 3,
     "metadata": {},
     "output_type": "execute_result"
    }
   ],
   "execution_count": 3
  },
  {
   "metadata": {
    "ExecuteTime": {
     "end_time": "2025-09-23T11:11:57.995108Z",
     "start_time": "2025-09-23T11:11:57.988908Z"
    }
   },
   "cell_type": "code",
   "source": [
    "matrix = np.array([[1,2,3],\n",
    "                   [4,5,6],\n",
    "                   [7,8,9]])\n",
    "add_100 = lambda i: i+100\n",
    "vectorized_add_100 = np.vectorize(add_100)\n",
    "\n",
    "matrix + 100"
   ],
   "id": "676c0a21e2568507",
   "outputs": [
    {
     "data": {
      "text/plain": [
       "array([[101, 102, 103],\n",
       "       [104, 105, 106],\n",
       "       [107, 108, 109]])"
      ]
     },
     "execution_count": 23,
     "metadata": {},
     "output_type": "execute_result"
    }
   ],
   "execution_count": 23
  },
  {
   "metadata": {
    "ExecuteTime": {
     "end_time": "2025-09-23T11:04:44.863638Z",
     "start_time": "2025-09-23T11:04:44.858845Z"
    }
   },
   "cell_type": "code",
   "source": [
    "matrix = np.array([[1,2,3],\n",
    "                   [4,5,6],\n",
    "                   [7,8,9]])\n",
    "x = np.max(matrix)\n",
    "print(x)\n",
    "y = np.min(matrix)\n",
    "print(y)\n",
    "\n",
    "#Найти максимальный элемент в каждом столбце\n",
    "print(np.max(matrix, axis=0))\n",
    "#Найти максимальный элемент в каждой строке\n",
    "print(np.max(matrix, axis=1))"
   ],
   "id": "a66796e5c18cfd2c",
   "outputs": [
    {
     "name": "stdout",
     "output_type": "stream",
     "text": [
      "9\n",
      "1\n",
      "[7 8 9]\n",
      "[3 6 9]\n"
     ]
    }
   ],
   "execution_count": 17
  },
  {
   "metadata": {
    "ExecuteTime": {
     "end_time": "2025-09-23T11:09:06.795953Z",
     "start_time": "2025-09-23T11:09:06.790793Z"
    }
   },
   "cell_type": "code",
   "source": [
    "#Mean, Var, Std\n",
    "matrix = np.array([[1,2,3],\n",
    "                   [4,5,6],\n",
    "                   [7,8,9]])\n",
    "#Вернуть среднее\n",
    "print(np.mean(matrix))\n",
    "#Вернуть дисперсию\n",
    "print(np.var(matrix))\n",
    "#Вернуть стандартное отклонение\n",
    "print(np.std(matrix))\n",
    "\n",
    "#Среднее значение в каждом столбце\n",
    "print(np.mean(matrix, axis=0))"
   ],
   "id": "9769528defb7cb8d",
   "outputs": [
    {
     "name": "stdout",
     "output_type": "stream",
     "text": [
      "5.0\n",
      "6.666666666666667\n",
      "2.581988897471611\n",
      "[4. 5. 6.]\n"
     ]
    }
   ],
   "execution_count": 21
  },
  {
   "metadata": {
    "ExecuteTime": {
     "end_time": "2025-09-23T11:17:21.713738Z",
     "start_time": "2025-09-23T11:17:21.708951Z"
    }
   },
   "cell_type": "code",
   "source": [
    "matrix = np.array([[1,2,3],\n",
    "                   [4,5,6],\n",
    "                   [7,8,9],\n",
    "                  [10,11,12]])\n",
    "matrix.reshape(1,-1)\n",
    "print(matrix.reshape(6,2))\n",
    "print(matrix.reshape(matrix.size))"
   ],
   "id": "866bea21125e088f",
   "outputs": [
    {
     "name": "stdout",
     "output_type": "stream",
     "text": [
      "[[ 1  2]\n",
      " [ 3  4]\n",
      " [ 5  6]\n",
      " [ 7  8]\n",
      " [ 9 10]\n",
      " [11 12]]\n",
      "[ 1  2  3  4  5  6  7  8  9 10 11 12]\n"
     ]
    }
   ],
   "execution_count": 29
  },
  {
   "metadata": {
    "ExecuteTime": {
     "end_time": "2025-09-23T11:22:20.534361Z",
     "start_time": "2025-09-23T11:22:20.528925Z"
    }
   },
   "cell_type": "code",
   "source": [
    "#Транспонирование вектора в матрицу\n",
    "matrix = np.array([[1,2,3],\n",
    "                   [4,5,6],\n",
    "                   [7,8,9]])\n",
    "print(matrix.T)\n",
    "#i = j, j = i. Т.е. x(3,5) при транспонировании станет x(5,3)\n",
    "#Транспонирование вектора в матрицу ничего не даст. Вектор - коллекция значений\n",
    "print(np.array([1,2,3,4,5,6]).T)\n",
    "\n",
    "#Причем. Вектор-строка транспонируется в вектор-столбец\n",
    "print(np.array([[1,2,3,4,5,6]]).T)"
   ],
   "id": "489914b75f6647f0",
   "outputs": [
    {
     "name": "stdout",
     "output_type": "stream",
     "text": [
      "[[1 4 7]\n",
      " [2 5 8]\n",
      " [3 6 9]]\n",
      "[1 2 3 4 5 6]\n",
      "[[1]\n",
      " [2]\n",
      " [3]\n",
      " [4]\n",
      " [5]\n",
      " [6]]\n"
     ]
    }
   ],
   "execution_count": 35
  },
  {
   "metadata": {
    "ExecuteTime": {
     "end_time": "2025-09-23T11:23:18.388635Z",
     "start_time": "2025-09-23T11:23:18.382816Z"
    }
   },
   "cell_type": "code",
   "source": [
    "#Матрица в одномерный массив\n",
    "matrix = np.array([[1,2,3],\n",
    "                   [4,5,6],\n",
    "                   [7,8,9]])\n",
    "matrix.flatten()"
   ],
   "id": "4e00c1ed5b8684b9",
   "outputs": [
    {
     "data": {
      "text/plain": [
       "array([1, 2, 3, 4, 5, 6, 7, 8, 9])"
      ]
     },
     "execution_count": 38,
     "metadata": {},
     "output_type": "execute_result"
    }
   ],
   "execution_count": 38
  },
  {
   "metadata": {
    "ExecuteTime": {
     "end_time": "2025-09-23T11:24:51.386251Z",
     "start_time": "2025-09-23T11:24:51.379901Z"
    }
   },
   "cell_type": "code",
   "source": "matrix.reshape(1,-1)",
   "id": "747f80bcd6c9de65",
   "outputs": [
    {
     "data": {
      "text/plain": [
       "array([[1, 2, 3, 4, 5, 6, 7, 8, 9]])"
      ]
     },
     "execution_count": 39,
     "metadata": {},
     "output_type": "execute_result"
    }
   ],
   "execution_count": 39
  },
  {
   "metadata": {
    "ExecuteTime": {
     "end_time": "2025-09-23T11:30:20.050645Z",
     "start_time": "2025-09-23T11:30:20.046039Z"
    }
   },
   "cell_type": "code",
   "source": "print(np.linalg.matrix_rank(matrix))",
   "id": "923f6a8f94071b38",
   "outputs": [
    {
     "name": "stdout",
     "output_type": "stream",
     "text": [
      "2\n"
     ]
    }
   ],
   "execution_count": 41
  },
  {
   "metadata": {
    "ExecuteTime": {
     "end_time": "2025-09-23T11:47:18.176685Z",
     "start_time": "2025-09-23T11:47:18.172624Z"
    }
   },
   "cell_type": "code",
   "source": [
    "matrix = np.array([[1, 2, 3],\n",
    "                   [2, 4, 6],\n",
    "                   [3, 8, 9]])\n",
    "\n",
    "print(np.linalg.det(matrix))"
   ],
   "id": "e0133549e4000ff9",
   "outputs": [
    {
     "name": "stdout",
     "output_type": "stream",
     "text": [
      "0.0\n"
     ]
    }
   ],
   "execution_count": 44
  },
  {
   "metadata": {
    "ExecuteTime": {
     "end_time": "2025-09-23T11:54:07.265723Z",
     "start_time": "2025-09-23T11:54:07.260884Z"
    }
   },
   "cell_type": "code",
   "source": [
    "print(matrix.diagonal(0))\n",
    "print(matrix.diagonal(-1))\n",
    "print(matrix.diagonal(1))"
   ],
   "id": "90f41ac69cc8e20b",
   "outputs": [
    {
     "name": "stdout",
     "output_type": "stream",
     "text": [
      "[1 4 9]\n",
      "[2 8]\n",
      "[2 6]\n"
     ]
    }
   ],
   "execution_count": 56
  },
  {
   "metadata": {
    "ExecuteTime": {
     "end_time": "2025-09-23T11:55:24.275643Z",
     "start_time": "2025-09-23T11:55:24.270841Z"
    }
   },
   "cell_type": "code",
   "source": [
    "#След матрицы. Сумма элементов гл. диагонали\n",
    "print(matrix.trace())"
   ],
   "id": "6a59e3c40b510d1a",
   "outputs": [
    {
     "name": "stdout",
     "output_type": "stream",
     "text": [
      "14\n"
     ]
    }
   ],
   "execution_count": 58
  },
  {
   "metadata": {
    "ExecuteTime": {
     "end_time": "2025-09-23T12:00:11.341931Z",
     "start_time": "2025-09-23T12:00:11.336020Z"
    }
   },
   "cell_type": "code",
   "source": [
    "import numpy as np\n",
    "matrix = np.array([[1, -1, 3],\n",
    "                   [1, 1, 6],\n",
    "                   [3, 8, 9]])\n",
    "eigenvalues, eigenvectors = np.linalg.eig(matrix)\n",
    "eigenvalues"
   ],
   "id": "bcc21ec8597bf9f",
   "outputs": [
    {
     "data": {
      "text/plain": [
       "array([13.55075847,  0.74003145, -3.29078992])"
      ]
     },
     "execution_count": 60,
     "metadata": {},
     "output_type": "execute_result"
    }
   ],
   "execution_count": 60
  },
  {
   "metadata": {
    "ExecuteTime": {
     "end_time": "2025-09-23T12:00:39.522896Z",
     "start_time": "2025-09-23T12:00:39.518088Z"
    }
   },
   "cell_type": "code",
   "source": "eigenvectors",
   "id": "c80d629155be27ce",
   "outputs": [
    {
     "data": {
      "text/plain": [
       "array([[-0.17622017, -0.96677403, -0.53373322],\n",
       "       [-0.435951  ,  0.2053623 , -0.64324848],\n",
       "       [-0.88254925,  0.15223105,  0.54896288]])"
      ]
     },
     "execution_count": 61,
     "metadata": {},
     "output_type": "execute_result"
    }
   ],
   "execution_count": 61
  },
  {
   "metadata": {
    "ExecuteTime": {
     "end_time": "2025-09-23T12:15:47.588259Z",
     "start_time": "2025-09-23T12:15:47.582314Z"
    }
   },
   "cell_type": "code",
   "source": [
    "#Скалярное произведение двух векторов\n",
    "vector_a = np.array([1,2,3])\n",
    "vector_b = np.array([4,5,6])\n",
    "np.dot(vector_a, vector_b)"
   ],
   "id": "6366a548225c4fa0",
   "outputs": [
    {
     "data": {
      "text/plain": [
       "np.int64(32)"
      ]
     },
     "execution_count": 62,
     "metadata": {},
     "output_type": "execute_result"
    }
   ],
   "execution_count": 62
  },
  {
   "metadata": {
    "ExecuteTime": {
     "end_time": "2025-09-23T12:19:17.596789Z",
     "start_time": "2025-09-23T12:19:17.591195Z"
    }
   },
   "cell_type": "code",
   "source": [
    "#Сложение и вычитание матриц\n",
    "matrix_a = np.array([[1, 1, 1],\n",
    "                     [1, 1, 1],\n",
    "                     [1, 1, 2]])\n",
    "matrix_b = np.array([[1, 3, 1],\n",
    "                     [1, 3, 1],\n",
    "                     [1, 3, 8]])\n",
    "print(np.add(matrix_a, matrix_b))\n",
    "print()\n",
    "print(np.subtract(matrix_a, matrix_b))\n",
    "print()\n",
    "print(matrix_a + matrix_b)\n"
   ],
   "id": "e343eba834d17b70",
   "outputs": [
    {
     "name": "stdout",
     "output_type": "stream",
     "text": [
      "[[ 2  4  2]\n",
      " [ 2  4  2]\n",
      " [ 2  4 10]]\n",
      "\n",
      "[[ 0 -2  0]\n",
      " [ 0 -2  0]\n",
      " [ 0 -2 -6]]\n",
      "\n",
      "[[ 2  4  2]\n",
      " [ 2  4  2]\n",
      " [ 2  4 10]]\n"
     ]
    }
   ],
   "execution_count": 69
  },
  {
   "metadata": {
    "ExecuteTime": {
     "end_time": "2025-09-23T12:22:36.598646Z",
     "start_time": "2025-09-23T12:22:36.593325Z"
    }
   },
   "cell_type": "code",
   "source": [
    "#Обратная матрица\n",
    "matrix = np.array([[1,4],\n",
    "                   [2,5]])\n",
    "print(np.linalg.inv(matrix))\n",
    "print(np.round(matrix @ np.linalg.inv(matrix)))\n"
   ],
   "id": "35332fe9a8e0d1f",
   "outputs": [
    {
     "name": "stdout",
     "output_type": "stream",
     "text": [
      "[[-1.66666667  1.33333333]\n",
      " [ 0.66666667 -0.33333333]]\n",
      "[[1. 0.]\n",
      " [0. 1.]]\n"
     ]
    }
   ],
   "execution_count": 73
  },
  {
   "metadata": {
    "ExecuteTime": {
     "end_time": "2025-09-23T12:24:01.463959Z",
     "start_time": "2025-09-23T12:24:01.458110Z"
    }
   },
   "cell_type": "code",
   "source": [
    "#Генерация псевдослучайных значений\n",
    "np.random.seed(0)\n",
    "np.random.random(3)"
   ],
   "id": "1e3373f6956a2acb",
   "outputs": [
    {
     "data": {
      "text/plain": [
       "array([0.5488135 , 0.71518937, 0.60276338])"
      ]
     },
     "execution_count": 79,
     "metadata": {},
     "output_type": "execute_result"
    }
   ],
   "execution_count": 79
  },
  {
   "metadata": {
    "ExecuteTime": {
     "end_time": "2025-09-23T12:24:49.424072Z",
     "start_time": "2025-09-23T12:24:49.419109Z"
    }
   },
   "cell_type": "code",
   "source": "np.random.randint(0,11,3)",
   "id": "cd7f04e02012d3ea",
   "outputs": [
    {
     "data": {
      "text/plain": [
       "array([3, 7, 9], dtype=int32)"
      ]
     },
     "execution_count": 80,
     "metadata": {},
     "output_type": "execute_result"
    }
   ],
   "execution_count": 80
  }
 ],
 "metadata": {
  "kernelspec": {
   "display_name": "Python 3",
   "language": "python",
   "name": "python3"
  },
  "language_info": {
   "codemirror_mode": {
    "name": "ipython",
    "version": 2
   },
   "file_extension": ".py",
   "mimetype": "text/x-python",
   "name": "python",
   "nbconvert_exporter": "python",
   "pygments_lexer": "ipython2",
   "version": "2.7.6"
  }
 },
 "nbformat": 4,
 "nbformat_minor": 5
}
