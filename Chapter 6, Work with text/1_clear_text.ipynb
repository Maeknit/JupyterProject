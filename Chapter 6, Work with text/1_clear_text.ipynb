{
 "cells": [
  {
   "metadata": {},
   "cell_type": "markdown",
   "source": "# Неструктурированные текстовые данные",
   "id": "826809b051321df3"
  },
  {
   "metadata": {},
   "cell_type": "markdown",
   "source": "### Очистка текста\n",
   "id": "6abaa3ad633c583e"
  },
  {
   "cell_type": "code",
   "id": "initial_id",
   "metadata": {
    "collapsed": true,
    "ExecuteTime": {
     "end_time": "2025-10-13T14:57:51.750980Z",
     "start_time": "2025-10-13T14:57:51.742888Z"
    }
   },
   "source": [
    "text_data = [\" Interrobang. By Aishwarya Henriette \",\n",
    "             \"Parking And Going. By Karl Gautier\",\n",
    "             \" Today Is The night. By Jarek Prakash\"]\n",
    "strip_whitespace = [string.strip() for string in text_data]\n",
    "strip_whitespace"
   ],
   "outputs": [
    {
     "data": {
      "text/plain": [
       "['Interrobang. By Aishwarya Henriette',\n",
       " 'Parking And Going. By Karl Gautier',\n",
       " 'Today Is The night. By Jarek Prakash']"
      ]
     },
     "execution_count": 1,
     "metadata": {},
     "output_type": "execute_result"
    }
   ],
   "execution_count": 1
  },
  {
   "metadata": {
    "ExecuteTime": {
     "end_time": "2025-10-13T14:58:40.556544Z",
     "start_time": "2025-10-13T14:58:40.551408Z"
    }
   },
   "cell_type": "code",
   "source": [
    "remove_periods = [string.replace(\".\", \"\") for string in strip_whitespace]\n",
    "remove_periods"
   ],
   "id": "9ac78180d66e3477",
   "outputs": [
    {
     "data": {
      "text/plain": [
       "['Interrobang By Aishwarya Henriette',\n",
       " 'Parking And Going By Karl Gautier',\n",
       " 'Today Is The night By Jarek Prakash']"
      ]
     },
     "execution_count": 2,
     "metadata": {},
     "output_type": "execute_result"
    }
   ],
   "execution_count": 2
  },
  {
   "metadata": {
    "ExecuteTime": {
     "end_time": "2025-10-14T06:25:45.020549Z",
     "start_time": "2025-10-14T06:25:45.015163Z"
    }
   },
   "cell_type": "code",
   "source": [
    "def capitalizer(string: str) -> str:\n",
    "    return string.upper()\n",
    "\n",
    "[capitalizer(string) for string in remove_periods]"
   ],
   "id": "1593861dc173fce7",
   "outputs": [
    {
     "data": {
      "text/plain": [
       "['INTERROBANG BY AISHWARYA HENRIETTE',\n",
       " 'PARKING AND GOING BY KARL GAUTIER',\n",
       " 'TODAY IS THE NIGHT BY JAREK PRAKASH']"
      ]
     },
     "execution_count": 5,
     "metadata": {},
     "output_type": "execute_result"
    }
   ],
   "execution_count": 5
  },
  {
   "metadata": {
    "ExecuteTime": {
     "end_time": "2025-10-14T06:28:10.592886Z",
     "start_time": "2025-10-14T06:28:10.587320Z"
    }
   },
   "cell_type": "code",
   "source": [
    "import re\n",
    "def replace_letters_with_X(string: str) -> str:\n",
    "    return re.sub(r\"[a-zA-Z]\", \"X\", string)\n",
    "[replace_letters_with_X(string) for string in remove_periods]"
   ],
   "id": "5ed6508006c0790a",
   "outputs": [
    {
     "data": {
      "text/plain": [
       "['XXXXXXXXXXX XX XXXXXXXXX XXXXXXXXX',\n",
       " 'XXXXXXX XXX XXXXX XX XXXX XXXXXXX',\n",
       " 'XXXXX XX XXX XXXXX XX XXXXX XXXXXXX']"
      ]
     },
     "execution_count": 6,
     "metadata": {},
     "output_type": "execute_result"
    }
   ],
   "execution_count": 6
  },
  {
   "metadata": {},
   "cell_type": "markdown",
   "source": [
    "### Разбор и очистка разметки HTML\n",
    "Даны текстовые данные с элементами HTML, и требуется извлечь только текст"
   ],
   "id": "c5442b1663b84942"
  },
  {
   "metadata": {
    "ExecuteTime": {
     "end_time": "2025-10-14T06:55:10.314047Z",
     "start_time": "2025-10-14T06:55:10.308629Z"
    }
   },
   "cell_type": "code",
   "source": [
    "from bs4 import BeautifulSoup\n",
    "html = \"\"\"\n",
    "       <div class='full_name'><span style='font-weight:bold'>\n",
    "       Masego</span>Azra</div>\n",
    "       \"\"\"\n",
    "soup = BeautifulSoup(html, \"html.parser\")\n",
    "soup.find(\"div\", {\"class\": \"full_name\"}).text.strip()"
   ],
   "id": "c212ff6311e0e779",
   "outputs": [
    {
     "data": {
      "text/plain": [
       "'MasegoAzra'"
      ]
     },
     "execution_count": 9,
     "metadata": {},
     "output_type": "execute_result"
    }
   ],
   "execution_count": 9
  },
  {
   "metadata": {},
   "cell_type": "markdown",
   "source": "### Удаление знаков препинания",
   "id": "429c795b1b93f2b9"
  },
  {
   "metadata": {
    "ExecuteTime": {
     "end_time": "2025-10-14T07:00:05.249922Z",
     "start_time": "2025-10-14T07:00:05.112143Z"
    }
   },
   "cell_type": "code",
   "source": [
    "import unicodedata\n",
    "import sys\n",
    "text_data = ['Hi!!! I. Love. This. Song....',\n",
    "             '10000% Agree!!!! #LoveIT',\n",
    "             'Right?!?!']\n",
    "punctuation = dict.fromkeys(i for i in range(sys.maxunicode)\n",
    "                            if unicodedata.category(chr(i)).startswith('P'))\n",
    "[string.translate(punctuation) for string in text_data]"
   ],
   "id": "96f3c1b842e157ec",
   "outputs": [
    {
     "data": {
      "text/plain": [
       "['Hi I Love This Song', '10000 Agree LoveIT', 'Right']"
      ]
     },
     "execution_count": 10,
     "metadata": {},
     "output_type": "execute_result"
    }
   ],
   "execution_count": 10
  },
  {
   "metadata": {},
   "cell_type": "markdown",
   "source": [
    "Получается автор каждый символ в тексте преобразовал в юникод символ, вернул его категорию Lu, Nd, Po <br>\n",
    "Далее удалил все символы, категории которых начинаются на P"
   ],
   "id": "f0ff14deecc73e5c"
  },
  {
   "metadata": {},
   "cell_type": "markdown",
   "source": "### Лексемизация текста",
   "id": "f843228b5ef10217"
  },
  {
   "metadata": {
    "ExecuteTime": {
     "end_time": "2025-10-14T07:15:56.115564Z",
     "start_time": "2025-10-14T07:15:56.110188Z"
    }
   },
   "cell_type": "code",
   "source": [
    "from razdel import tokenize\n",
    "string = \"Сегодняшняя наука - это технология завтрашнего дня\"\n",
    "[_.text for _ in tokenize(string)]"
   ],
   "id": "b40fa308ea37da52",
   "outputs": [
    {
     "data": {
      "text/plain": [
       "['Сегодняшняя', 'наука', '-', 'это', 'технология', 'завтрашнего', 'дня']"
      ]
     },
     "execution_count": 13,
     "metadata": {},
     "output_type": "execute_result"
    }
   ],
   "execution_count": 13
  },
  {
   "metadata": {
    "ExecuteTime": {
     "end_time": "2025-10-14T07:19:46.965542Z",
     "start_time": "2025-10-14T07:19:46.960337Z"
    }
   },
   "cell_type": "code",
   "source": [
    "from razdel import sentenize\n",
    "string = \"\"\"Сегодняшняя наука — это технология завтрашнего дня. Завтра начинается сегодня.\"\"\"\n",
    "[_.text for _ in sentenize(string)]"
   ],
   "id": "de00bf878a2df998",
   "outputs": [
    {
     "data": {
      "text/plain": [
       "['Сегодняшняя наука — это технология завтрашнего дня.',\n",
       " 'Завтра начинается сегодня.']"
      ]
     },
     "execution_count": 15,
     "metadata": {},
     "output_type": "execute_result"
    }
   ],
   "execution_count": 15
  },
  {
   "metadata": {
    "ExecuteTime": {
     "end_time": "2025-10-14T07:26:33.678686Z",
     "start_time": "2025-10-14T07:26:33.673256Z"
    }
   },
   "cell_type": "code",
   "source": [
    "from nltk.corpus import stopwords\n",
    "tokenized_words = ['i',\n",
    "                   'am',\n",
    "                   'going',\n",
    "                   'to',\n",
    "                   'go',\n",
    "                   'to',\n",
    "                   'the',\n",
    "                   'store',\n",
    "                   'and',\n",
    "                   'park']\n",
    "stop_words = stopwords.words('english')\n",
    "[word for word in tokenized_words if word not in stop_words]"
   ],
   "id": "3789285b5751bc21",
   "outputs": [
    {
     "data": {
      "text/plain": [
       "['going', 'go', 'store', 'park']"
      ]
     },
     "execution_count": 18,
     "metadata": {},
     "output_type": "execute_result"
    }
   ],
   "execution_count": 18
  },
  {
   "metadata": {},
   "cell_type": "markdown",
   "source": [
    "Стоп-слова удаляют, чтобы сделать текст чище и информативнее для алгоритмов машинного обучения <br>\n",
    "Это стандартный шаг в NLP-пайплайнах - как удаление пунктуации или приведение к нижнему регистру. <br> <br>\n",
    "Если вы работаете с классификацией, поиском, кластеризацией - почти всегда удалять стоп-слова"
   ],
   "id": "3e1419ad79176e1c"
  },
  {
   "metadata": {
    "ExecuteTime": {
     "end_time": "2025-10-14T08:27:18.498512Z",
     "start_time": "2025-10-14T08:27:18.492166Z"
    }
   },
   "cell_type": "code",
   "source": [
    "from nltk.stem.porter import PorterStemmer\n",
    "tokenized_words = ['i', 'am', 'humbled', 'by', 'this', 'traditional', 'meeting']\n",
    "porter = PorterStemmer()\n",
    "[porter.stem(word) for word in tokenized_words]"
   ],
   "id": "83bfa68f05146cab",
   "outputs": [
    {
     "data": {
      "text/plain": [
       "['i', 'am', 'humbl', 'by', 'thi', 'tradit', 'meet']"
      ]
     },
     "execution_count": 20,
     "metadata": {},
     "output_type": "execute_result"
    }
   ],
   "execution_count": 20
  },
  {
   "metadata": {
    "ExecuteTime": {
     "end_time": "2025-10-14T08:28:41.473929Z",
     "start_time": "2025-10-14T08:28:41.468876Z"
    }
   },
   "cell_type": "code",
   "source": [
    "from nltk.stem.snowball import SnowballStemmer\n",
    "tokenized_words = ['рыбаки', 'рыбаков', 'рыбаками']\n",
    "snowbaall = SnowballStemmer(\"russian\")\n",
    "[snowbaall.stem(word) for word in tokenized_words]"
   ],
   "id": "9f4ad99de944ede8",
   "outputs": [
    {
     "data": {
      "text/plain": [
       "['рыбак', 'рыбак', 'рыбак']"
      ]
     },
     "execution_count": 21,
     "metadata": {},
     "output_type": "execute_result"
    }
   ],
   "execution_count": 21
  },
  {
   "metadata": {},
   "cell_type": "markdown",
   "source": "### Лемматизация текста",
   "id": "49c39064f9cb8514"
  },
  {
   "metadata": {
    "ExecuteTime": {
     "end_time": "2025-10-14T08:32:08.533708Z",
     "start_time": "2025-10-14T08:32:08.528841Z"
    }
   },
   "cell_type": "code",
   "source": [
    "from nltk.stem import WordNetLemmatizer\n",
    "tokenized_words = ['go', 'went', 'gone', 'are', 'is', 'was', 'were']\n",
    "lemmatizer = WordNetLemmatizer()\n",
    "[lemmatizer.lemmatize(word, pos='v') for word in tokenized_words]"
   ],
   "id": "b6c90d5e242c8797",
   "outputs": [
    {
     "data": {
      "text/plain": [
       "['go', 'go', 'go', 'be', 'be', 'be', 'be']"
      ]
     },
     "execution_count": 24,
     "metadata": {},
     "output_type": "execute_result"
    }
   ],
   "execution_count": 24
  }
 ],
 "metadata": {
  "kernelspec": {
   "display_name": "Python 3",
   "language": "python",
   "name": "python3"
  },
  "language_info": {
   "codemirror_mode": {
    "name": "ipython",
    "version": 2
   },
   "file_extension": ".py",
   "mimetype": "text/x-python",
   "name": "python",
   "nbconvert_exporter": "python",
   "pygments_lexer": "ipython2",
   "version": "2.7.6"
  }
 },
 "nbformat": 4,
 "nbformat_minor": 5
}
