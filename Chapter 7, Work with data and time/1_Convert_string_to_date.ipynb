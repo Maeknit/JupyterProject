{
 "cells": [
  {
   "metadata": {},
   "cell_type": "markdown",
   "source": [
    "# Работа с датами и временем\n",
    "\n",
    "### Конвертирование строковых значений в даты"
   ],
   "id": "4b989ea390d16b74"
  },
  {
   "cell_type": "code",
   "id": "initial_id",
   "metadata": {
    "collapsed": true,
    "ExecuteTime": {
     "end_time": "2025-10-14T12:06:36.507736Z",
     "start_time": "2025-10-14T12:06:36.501462Z"
    }
   },
   "source": [
    "from sqlite3.dbapi2 import Timestamp\n",
    "\n",
    "import numpy as np\n",
    "import pandas as pd\n",
    "date_strings = np.array(['03-04-2005 11:35 PM',\n",
    "                         '23-05-2010 12:01 AM',\n",
    "                         '04-09-2009 09:09 PM'])\n",
    "[pd.to_datetime(date, format='%d-%m-%Y %I:%M %p') for date in date_strings]"
   ],
   "outputs": [
    {
     "data": {
      "text/plain": [
       "[Timestamp('2005-04-03 23:35:00'),\n",
       " Timestamp('2010-05-23 00:01:00'),\n",
       " Timestamp('2009-09-04 21:09:00')]"
      ]
     },
     "execution_count": 3,
     "metadata": {},
     "output_type": "execute_result"
    }
   ],
   "execution_count": 3
  },
  {
   "metadata": {},
   "cell_type": "markdown",
   "source": "### Обработка часовых поясов",
   "id": "27c155dc9635f01d"
  },
  {
   "metadata": {
    "ExecuteTime": {
     "end_time": "2025-10-14T12:08:18.504496Z",
     "start_time": "2025-10-14T12:08:16.935734Z"
    }
   },
   "cell_type": "code",
   "source": "pd.Timestamp('2017-05-01 06:00:00', tz='Europe/London')",
   "id": "61489f5d458acf3b",
   "outputs": [
    {
     "data": {
      "text/plain": [
       "Timestamp('2017-05-01 06:00:00+0100', tz='Europe/London')"
      ]
     },
     "execution_count": 4,
     "metadata": {},
     "output_type": "execute_result"
    }
   ],
   "execution_count": 4
  },
  {
   "metadata": {
    "ExecuteTime": {
     "end_time": "2025-10-14T12:09:28.612864Z",
     "start_time": "2025-10-14T12:09:28.606272Z"
    }
   },
   "cell_type": "code",
   "source": [
    "date = pd.Timestamp('2017-05-01 06:00:00')\n",
    "date_in_london = date.tz_localize('Europe/London')\n",
    "date_in_london"
   ],
   "id": "d4d849bbc098eb6e",
   "outputs": [
    {
     "data": {
      "text/plain": [
       "Timestamp('2017-05-01 06:00:00+0100', tz='Europe/London')"
      ]
     },
     "execution_count": 7,
     "metadata": {},
     "output_type": "execute_result"
    }
   ],
   "execution_count": 7
  },
  {
   "metadata": {
    "ExecuteTime": {
     "end_time": "2025-10-14T12:11:11.250101Z",
     "start_time": "2025-10-14T12:11:11.243592Z"
    }
   },
   "cell_type": "code",
   "source": "date_in_london.tz_convert('Africa/Abidjan')",
   "id": "c011165fcb7b7a7a",
   "outputs": [
    {
     "data": {
      "text/plain": [
       "Timestamp('2017-05-01 05:00:00+0000', tz='Africa/Abidjan')"
      ]
     },
     "execution_count": 9,
     "metadata": {},
     "output_type": "execute_result"
    }
   ],
   "execution_count": 9
  },
  {
   "metadata": {
    "ExecuteTime": {
     "end_time": "2025-10-14T12:12:14.061897Z",
     "start_time": "2025-10-14T12:12:14.057158Z"
    }
   },
   "cell_type": "code",
   "source": [
    "from pytz import  all_timezones\n",
    "all_timezones[0:3]"
   ],
   "id": "ddbeee08a0458eed",
   "outputs": [
    {
     "data": {
      "text/plain": [
       "['Africa/Abidjan', 'Africa/Accra', 'Africa/Addis_Ababa']"
      ]
     },
     "execution_count": 11,
     "metadata": {},
     "output_type": "execute_result"
    }
   ],
   "execution_count": 11
  },
  {
   "metadata": {},
   "cell_type": "markdown",
   "source": "### Выбор дат и времени",
   "id": "aa7ef5e9c912e788"
  },
  {
   "metadata": {
    "ExecuteTime": {
     "end_time": "2025-10-14T12:15:49.854160Z",
     "start_time": "2025-10-14T12:15:49.839628Z"
    }
   },
   "cell_type": "code",
   "source": [
    "dataframe = pd.DataFrame()\n",
    "dataframe['дата'] = pd.date_range('1/1/2001', periods=100000, freq='h')\n",
    "dataframe[(dataframe['дата'] > '2002-1-1 01:00:00') &\n",
    "          (dataframe['дата'] <= '2002-1-1 04:00:00')]"
   ],
   "id": "d99b8276e74919f",
   "outputs": [
    {
     "data": {
      "text/plain": [
       "                    дата\n",
       "8762 2002-01-01 02:00:00\n",
       "8763 2002-01-01 03:00:00\n",
       "8764 2002-01-01 04:00:00"
      ],
      "text/html": [
       "<div>\n",
       "<style scoped>\n",
       "    .dataframe tbody tr th:only-of-type {\n",
       "        vertical-align: middle;\n",
       "    }\n",
       "\n",
       "    .dataframe tbody tr th {\n",
       "        vertical-align: top;\n",
       "    }\n",
       "\n",
       "    .dataframe thead th {\n",
       "        text-align: right;\n",
       "    }\n",
       "</style>\n",
       "<table border=\"1\" class=\"dataframe\">\n",
       "  <thead>\n",
       "    <tr style=\"text-align: right;\">\n",
       "      <th></th>\n",
       "      <th>дата</th>\n",
       "    </tr>\n",
       "  </thead>\n",
       "  <tbody>\n",
       "    <tr>\n",
       "      <th>8762</th>\n",
       "      <td>2002-01-01 02:00:00</td>\n",
       "    </tr>\n",
       "    <tr>\n",
       "      <th>8763</th>\n",
       "      <td>2002-01-01 03:00:00</td>\n",
       "    </tr>\n",
       "    <tr>\n",
       "      <th>8764</th>\n",
       "      <td>2002-01-01 04:00:00</td>\n",
       "    </tr>\n",
       "  </tbody>\n",
       "</table>\n",
       "</div>"
      ]
     },
     "execution_count": 14,
     "metadata": {},
     "output_type": "execute_result"
    }
   ],
   "execution_count": 14
  },
  {
   "metadata": {
    "ExecuteTime": {
     "end_time": "2025-10-14T12:17:02.798797Z",
     "start_time": "2025-10-14T12:17:02.777679Z"
    }
   },
   "cell_type": "code",
   "source": [
    "dataframe = dataframe.set_index(dataframe['дата'])\n",
    "dataframe.loc['2002-1-1 01:00:00':'2002-1-1 04:00:00']"
   ],
   "id": "f1f847949cc9b55b",
   "outputs": [
    {
     "data": {
      "text/plain": [
       "                                   дата\n",
       "дата                                   \n",
       "2002-01-01 01:00:00 2002-01-01 01:00:00\n",
       "2002-01-01 02:00:00 2002-01-01 02:00:00\n",
       "2002-01-01 03:00:00 2002-01-01 03:00:00\n",
       "2002-01-01 04:00:00 2002-01-01 04:00:00"
      ],
      "text/html": [
       "<div>\n",
       "<style scoped>\n",
       "    .dataframe tbody tr th:only-of-type {\n",
       "        vertical-align: middle;\n",
       "    }\n",
       "\n",
       "    .dataframe tbody tr th {\n",
       "        vertical-align: top;\n",
       "    }\n",
       "\n",
       "    .dataframe thead th {\n",
       "        text-align: right;\n",
       "    }\n",
       "</style>\n",
       "<table border=\"1\" class=\"dataframe\">\n",
       "  <thead>\n",
       "    <tr style=\"text-align: right;\">\n",
       "      <th></th>\n",
       "      <th>дата</th>\n",
       "    </tr>\n",
       "    <tr>\n",
       "      <th>дата</th>\n",
       "      <th></th>\n",
       "    </tr>\n",
       "  </thead>\n",
       "  <tbody>\n",
       "    <tr>\n",
       "      <th>2002-01-01 01:00:00</th>\n",
       "      <td>2002-01-01 01:00:00</td>\n",
       "    </tr>\n",
       "    <tr>\n",
       "      <th>2002-01-01 02:00:00</th>\n",
       "      <td>2002-01-01 02:00:00</td>\n",
       "    </tr>\n",
       "    <tr>\n",
       "      <th>2002-01-01 03:00:00</th>\n",
       "      <td>2002-01-01 03:00:00</td>\n",
       "    </tr>\n",
       "    <tr>\n",
       "      <th>2002-01-01 04:00:00</th>\n",
       "      <td>2002-01-01 04:00:00</td>\n",
       "    </tr>\n",
       "  </tbody>\n",
       "</table>\n",
       "</div>"
      ]
     },
     "execution_count": 15,
     "metadata": {},
     "output_type": "execute_result"
    }
   ],
   "execution_count": 15
  },
  {
   "metadata": {},
   "cell_type": "markdown",
   "source": "### Разбиение данных даты на несколько признаков",
   "id": "2f9491217f1ddf20"
  },
  {
   "metadata": {
    "ExecuteTime": {
     "end_time": "2025-10-15T10:33:26.591160Z",
     "start_time": "2025-10-15T10:33:24.717720Z"
    }
   },
   "cell_type": "code",
   "source": [
    "import pandas as pd\n",
    "dataframe = pd.DataFrame()\n",
    "\n",
    "dataframe['дата'] = pd.date_range('1/1/2001', periods=150, freq='W')\n",
    "dataframe['год'] = dataframe['дата'].dt.year\n",
    "dataframe['месяц'] = dataframe['дата'].dt.month\n",
    "dataframe['день'] = dataframe['дата'].dt.day\n",
    "dataframe ['час'] = dataframe['дата'].dt.hour\n",
    "dataframe['минута'] = dataframe['дата'].dt.minute\n",
    "dataframe.head(3)"
   ],
   "id": "f3e7365cf61d0401",
   "outputs": [
    {
     "data": {
      "text/plain": [
       "        дата   год  месяц  день  час  минута\n",
       "0 2001-01-07  2001      1     7    0       0\n",
       "1 2001-01-14  2001      1    14    0       0\n",
       "2 2001-01-21  2001      1    21    0       0"
      ],
      "text/html": [
       "<div>\n",
       "<style scoped>\n",
       "    .dataframe tbody tr th:only-of-type {\n",
       "        vertical-align: middle;\n",
       "    }\n",
       "\n",
       "    .dataframe tbody tr th {\n",
       "        vertical-align: top;\n",
       "    }\n",
       "\n",
       "    .dataframe thead th {\n",
       "        text-align: right;\n",
       "    }\n",
       "</style>\n",
       "<table border=\"1\" class=\"dataframe\">\n",
       "  <thead>\n",
       "    <tr style=\"text-align: right;\">\n",
       "      <th></th>\n",
       "      <th>дата</th>\n",
       "      <th>год</th>\n",
       "      <th>месяц</th>\n",
       "      <th>день</th>\n",
       "      <th>час</th>\n",
       "      <th>минута</th>\n",
       "    </tr>\n",
       "  </thead>\n",
       "  <tbody>\n",
       "    <tr>\n",
       "      <th>0</th>\n",
       "      <td>2001-01-07</td>\n",
       "      <td>2001</td>\n",
       "      <td>1</td>\n",
       "      <td>7</td>\n",
       "      <td>0</td>\n",
       "      <td>0</td>\n",
       "    </tr>\n",
       "    <tr>\n",
       "      <th>1</th>\n",
       "      <td>2001-01-14</td>\n",
       "      <td>2001</td>\n",
       "      <td>1</td>\n",
       "      <td>14</td>\n",
       "      <td>0</td>\n",
       "      <td>0</td>\n",
       "    </tr>\n",
       "    <tr>\n",
       "      <th>2</th>\n",
       "      <td>2001-01-21</td>\n",
       "      <td>2001</td>\n",
       "      <td>1</td>\n",
       "      <td>21</td>\n",
       "      <td>0</td>\n",
       "      <td>0</td>\n",
       "    </tr>\n",
       "  </tbody>\n",
       "</table>\n",
       "</div>"
      ]
     },
     "execution_count": 2,
     "metadata": {},
     "output_type": "execute_result"
    }
   ],
   "execution_count": 2
  },
  {
   "metadata": {
    "ExecuteTime": {
     "end_time": "2025-10-15T10:35:56.972526Z",
     "start_time": "2025-10-15T10:35:56.963245Z"
    }
   },
   "cell_type": "code",
   "source": [
    "dataframe = pd.DataFrame()\n",
    "dataframe['Прибыло'] = [pd.Timestamp('01-01-2017'), pd.Timestamp('01-04-2017')]\n",
    "dataframe['Осталось'] = [pd.Timestamp('01-01-2017'), pd.Timestamp('01-06-2017')]\n",
    "dataframe['Осталось'] - dataframe['Прибыло']"
   ],
   "id": "2d08ebbe9b7946e0",
   "outputs": [
    {
     "data": {
      "text/plain": [
       "0   0 days\n",
       "1   2 days\n",
       "dtype: timedelta64[ns]"
      ]
     },
     "execution_count": 3,
     "metadata": {},
     "output_type": "execute_result"
    }
   ],
   "execution_count": 3
  },
  {
   "metadata": {
    "ExecuteTime": {
     "end_time": "2025-10-15T10:43:17.395009Z",
     "start_time": "2025-10-15T10:43:17.388237Z"
    }
   },
   "cell_type": "code",
   "source": [
    "# Оставим только числовое значение\n",
    "pd.Series(delta.days\n",
    "          for delta in (dataframe['Осталось'] - dataframe['Прибыло']))"
   ],
   "id": "b8e25290209db6c4",
   "outputs": [
    {
     "data": {
      "text/plain": [
       "0    0\n",
       "1    2\n",
       "dtype: int64"
      ]
     },
     "execution_count": 4,
     "metadata": {},
     "output_type": "execute_result"
    }
   ],
   "execution_count": 4
  },
  {
   "metadata": {},
   "cell_type": "markdown",
   "source": [
    "### Кодирование дней недели\n",
    "Дан вектор дат, и требуется узнать день недели для каждой даты"
   ],
   "id": "25d5ad984cbc09b6"
  },
  {
   "metadata": {
    "ExecuteTime": {
     "end_time": "2025-10-15T10:47:51.238240Z",
     "start_time": "2025-10-15T10:47:51.231414Z"
    }
   },
   "cell_type": "code",
   "source": [
    "dates = pd.Series(pd.date_range(\"2/2/2002\", periods=3, freq=\"ME\"))\n",
    "dates.dt.day_name()"
   ],
   "id": "2033431a94ef4783",
   "outputs": [
    {
     "data": {
      "text/plain": [
       "0    Thursday\n",
       "1      Sunday\n",
       "2     Tuesday\n",
       "dtype: object"
      ]
     },
     "execution_count": 9,
     "metadata": {},
     "output_type": "execute_result"
    }
   ],
   "execution_count": 9
  },
  {
   "metadata": {
    "ExecuteTime": {
     "end_time": "2025-10-15T10:48:13.829120Z",
     "start_time": "2025-10-15T10:48:13.823389Z"
    }
   },
   "cell_type": "code",
   "source": "dates.dt.weekday",
   "id": "b5bca06ef26fc905",
   "outputs": [
    {
     "data": {
      "text/plain": [
       "0    3\n",
       "1    6\n",
       "2    1\n",
       "dtype: int32"
      ]
     },
     "execution_count": 10,
     "metadata": {},
     "output_type": "execute_result"
    }
   ],
   "execution_count": 10
  },
  {
   "metadata": {},
   "cell_type": "markdown",
   "source": "### Создание запаздывающего признака",
   "id": "c985e43273d5c2a3"
  },
  {
   "metadata": {
    "ExecuteTime": {
     "end_time": "2025-10-15T10:50:53.291917Z",
     "start_time": "2025-10-15T10:50:53.280921Z"
    }
   },
   "cell_type": "code",
   "source": [
    "dataframe = pd.DataFrame()\n",
    "dataframe[\"даты\"] = pd.date_range(\"1/1/2001\", periods=5, freq='D')\n",
    "dataframe[\"цена_акций\"] = [1.2,2.2,3.3,4.4,5.5]\n",
    "dataframe[\"цена_акций_в_предыдущий_день\"] = dataframe[\"цена_акций\"].shift(1)\n",
    "dataframe"
   ],
   "id": "e97f7d0dd4aa9a06",
   "outputs": [
    {
     "data": {
      "text/plain": [
       "        даты  цена_акций  цена_акций_в_предыдущий_день\n",
       "0 2001-01-01         1.2                           NaN\n",
       "1 2001-01-02         2.2                           1.2\n",
       "2 2001-01-03         3.3                           2.2\n",
       "3 2001-01-04         4.4                           3.3\n",
       "4 2001-01-05         5.5                           4.4"
      ],
      "text/html": [
       "<div>\n",
       "<style scoped>\n",
       "    .dataframe tbody tr th:only-of-type {\n",
       "        vertical-align: middle;\n",
       "    }\n",
       "\n",
       "    .dataframe tbody tr th {\n",
       "        vertical-align: top;\n",
       "    }\n",
       "\n",
       "    .dataframe thead th {\n",
       "        text-align: right;\n",
       "    }\n",
       "</style>\n",
       "<table border=\"1\" class=\"dataframe\">\n",
       "  <thead>\n",
       "    <tr style=\"text-align: right;\">\n",
       "      <th></th>\n",
       "      <th>даты</th>\n",
       "      <th>цена_акций</th>\n",
       "      <th>цена_акций_в_предыдущий_день</th>\n",
       "    </tr>\n",
       "  </thead>\n",
       "  <tbody>\n",
       "    <tr>\n",
       "      <th>0</th>\n",
       "      <td>2001-01-01</td>\n",
       "      <td>1.2</td>\n",
       "      <td>NaN</td>\n",
       "    </tr>\n",
       "    <tr>\n",
       "      <th>1</th>\n",
       "      <td>2001-01-02</td>\n",
       "      <td>2.2</td>\n",
       "      <td>1.2</td>\n",
       "    </tr>\n",
       "    <tr>\n",
       "      <th>2</th>\n",
       "      <td>2001-01-03</td>\n",
       "      <td>3.3</td>\n",
       "      <td>2.2</td>\n",
       "    </tr>\n",
       "    <tr>\n",
       "      <th>3</th>\n",
       "      <td>2001-01-04</td>\n",
       "      <td>4.4</td>\n",
       "      <td>3.3</td>\n",
       "    </tr>\n",
       "    <tr>\n",
       "      <th>4</th>\n",
       "      <td>2001-01-05</td>\n",
       "      <td>5.5</td>\n",
       "      <td>4.4</td>\n",
       "    </tr>\n",
       "  </tbody>\n",
       "</table>\n",
       "</div>"
      ]
     },
     "execution_count": 12,
     "metadata": {},
     "output_type": "execute_result"
    }
   ],
   "execution_count": 12
  },
  {
   "metadata": {},
   "cell_type": "markdown",
   "source": "### Обработка пропущенных дат во временном ряду",
   "id": "d5d1e91a31473708"
  },
  {
   "metadata": {
    "ExecuteTime": {
     "end_time": "2025-10-15T10:54:52.540333Z",
     "start_time": "2025-10-15T10:54:52.524544Z"
    }
   },
   "cell_type": "code",
   "source": [
    "import numpy as np\n",
    "time_index = pd.date_range(\"01/01/2010\", periods=5, freq=\"ME\")\n",
    "dataframe = pd.DataFrame(index=time_index)\n",
    "dataframe[\"продажи\"] = [1.0,2.0,np.nan,np.nan,5.0]\n",
    "dataframe.interpolate()"
   ],
   "id": "789b2f7bda7dd4e0",
   "outputs": [
    {
     "data": {
      "text/plain": [
       "            продажи\n",
       "2010-01-31      1.0\n",
       "2010-02-28      2.0\n",
       "2010-03-31      3.0\n",
       "2010-04-30      4.0\n",
       "2010-05-31      5.0"
      ],
      "text/html": [
       "<div>\n",
       "<style scoped>\n",
       "    .dataframe tbody tr th:only-of-type {\n",
       "        vertical-align: middle;\n",
       "    }\n",
       "\n",
       "    .dataframe tbody tr th {\n",
       "        vertical-align: top;\n",
       "    }\n",
       "\n",
       "    .dataframe thead th {\n",
       "        text-align: right;\n",
       "    }\n",
       "</style>\n",
       "<table border=\"1\" class=\"dataframe\">\n",
       "  <thead>\n",
       "    <tr style=\"text-align: right;\">\n",
       "      <th></th>\n",
       "      <th>продажи</th>\n",
       "    </tr>\n",
       "  </thead>\n",
       "  <tbody>\n",
       "    <tr>\n",
       "      <th>2010-01-31</th>\n",
       "      <td>1.0</td>\n",
       "    </tr>\n",
       "    <tr>\n",
       "      <th>2010-02-28</th>\n",
       "      <td>2.0</td>\n",
       "    </tr>\n",
       "    <tr>\n",
       "      <th>2010-03-31</th>\n",
       "      <td>3.0</td>\n",
       "    </tr>\n",
       "    <tr>\n",
       "      <th>2010-04-30</th>\n",
       "      <td>4.0</td>\n",
       "    </tr>\n",
       "    <tr>\n",
       "      <th>2010-05-31</th>\n",
       "      <td>5.0</td>\n",
       "    </tr>\n",
       "  </tbody>\n",
       "</table>\n",
       "</div>"
      ]
     },
     "execution_count": 14,
     "metadata": {},
     "output_type": "execute_result"
    }
   ],
   "execution_count": 14
  },
  {
   "metadata": {
    "ExecuteTime": {
     "end_time": "2025-10-15T12:19:29.504055Z",
     "start_time": "2025-10-15T12:19:29.493964Z"
    }
   },
   "cell_type": "code",
   "source": "dataframe.ffill()",
   "id": "47e06c4e97717158",
   "outputs": [
    {
     "data": {
      "text/plain": [
       "            продажи\n",
       "2010-01-31      1.0\n",
       "2010-02-28      2.0\n",
       "2010-03-31      2.0\n",
       "2010-04-30      2.0\n",
       "2010-05-31      5.0"
      ],
      "text/html": [
       "<div>\n",
       "<style scoped>\n",
       "    .dataframe tbody tr th:only-of-type {\n",
       "        vertical-align: middle;\n",
       "    }\n",
       "\n",
       "    .dataframe tbody tr th {\n",
       "        vertical-align: top;\n",
       "    }\n",
       "\n",
       "    .dataframe thead th {\n",
       "        text-align: right;\n",
       "    }\n",
       "</style>\n",
       "<table border=\"1\" class=\"dataframe\">\n",
       "  <thead>\n",
       "    <tr style=\"text-align: right;\">\n",
       "      <th></th>\n",
       "      <th>продажи</th>\n",
       "    </tr>\n",
       "  </thead>\n",
       "  <tbody>\n",
       "    <tr>\n",
       "      <th>2010-01-31</th>\n",
       "      <td>1.0</td>\n",
       "    </tr>\n",
       "    <tr>\n",
       "      <th>2010-02-28</th>\n",
       "      <td>2.0</td>\n",
       "    </tr>\n",
       "    <tr>\n",
       "      <th>2010-03-31</th>\n",
       "      <td>2.0</td>\n",
       "    </tr>\n",
       "    <tr>\n",
       "      <th>2010-04-30</th>\n",
       "      <td>2.0</td>\n",
       "    </tr>\n",
       "    <tr>\n",
       "      <th>2010-05-31</th>\n",
       "      <td>5.0</td>\n",
       "    </tr>\n",
       "  </tbody>\n",
       "</table>\n",
       "</div>"
      ]
     },
     "execution_count": 15,
     "metadata": {},
     "output_type": "execute_result"
    }
   ],
   "execution_count": 15
  },
  {
   "metadata": {
    "ExecuteTime": {
     "end_time": "2025-10-15T12:19:44.102869Z",
     "start_time": "2025-10-15T12:19:44.093091Z"
    }
   },
   "cell_type": "code",
   "source": "dataframe.bfill()",
   "id": "91711be32e5b72fc",
   "outputs": [
    {
     "data": {
      "text/plain": [
       "            продажи\n",
       "2010-01-31      1.0\n",
       "2010-02-28      2.0\n",
       "2010-03-31      5.0\n",
       "2010-04-30      5.0\n",
       "2010-05-31      5.0"
      ],
      "text/html": [
       "<div>\n",
       "<style scoped>\n",
       "    .dataframe tbody tr th:only-of-type {\n",
       "        vertical-align: middle;\n",
       "    }\n",
       "\n",
       "    .dataframe tbody tr th {\n",
       "        vertical-align: top;\n",
       "    }\n",
       "\n",
       "    .dataframe thead th {\n",
       "        text-align: right;\n",
       "    }\n",
       "</style>\n",
       "<table border=\"1\" class=\"dataframe\">\n",
       "  <thead>\n",
       "    <tr style=\"text-align: right;\">\n",
       "      <th></th>\n",
       "      <th>продажи</th>\n",
       "    </tr>\n",
       "  </thead>\n",
       "  <tbody>\n",
       "    <tr>\n",
       "      <th>2010-01-31</th>\n",
       "      <td>1.0</td>\n",
       "    </tr>\n",
       "    <tr>\n",
       "      <th>2010-02-28</th>\n",
       "      <td>2.0</td>\n",
       "    </tr>\n",
       "    <tr>\n",
       "      <th>2010-03-31</th>\n",
       "      <td>5.0</td>\n",
       "    </tr>\n",
       "    <tr>\n",
       "      <th>2010-04-30</th>\n",
       "      <td>5.0</td>\n",
       "    </tr>\n",
       "    <tr>\n",
       "      <th>2010-05-31</th>\n",
       "      <td>5.0</td>\n",
       "    </tr>\n",
       "  </tbody>\n",
       "</table>\n",
       "</div>"
      ]
     },
     "execution_count": 16,
     "metadata": {},
     "output_type": "execute_result"
    }
   ],
   "execution_count": 16
  },
  {
   "metadata": {},
   "cell_type": "markdown",
   "source": "Интерполяция - метод заполнения промежутков, вызванных пропущенными значениями",
   "id": "452bc94724bee5c8"
  }
 ],
 "metadata": {
  "kernelspec": {
   "display_name": "Python 3",
   "language": "python",
   "name": "python3"
  },
  "language_info": {
   "codemirror_mode": {
    "name": "ipython",
    "version": 2
   },
   "file_extension": ".py",
   "mimetype": "text/x-python",
   "name": "python",
   "nbconvert_exporter": "python",
   "pygments_lexer": "ipython2",
   "version": "2.7.6"
  }
 },
 "nbformat": 4,
 "nbformat_minor": 5
}
