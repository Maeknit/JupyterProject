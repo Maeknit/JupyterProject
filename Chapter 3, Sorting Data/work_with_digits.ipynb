{
 "cells": [
  {
   "cell_type": "code",
   "execution_count": null,
   "id": "initial_id",
   "metadata": {
    "collapsed": true
   },
   "outputs": [],
   "source": [
    "import pandas as pd\n",
    "dataframe = pd.read_csv(\"../data/titanic.csv\")\n",
    "\n",
    "print('Максимум:', dataframe['Age'].шах())\n",
    "print('Минимум:', dataframe['Age'].min())\n",
    "print('Среднее:', dataframe['Age'].meant)\n",
    "print('Сумма:', dataframe['Age'].sum())\n",
    "print('Количество:', dataframe['Age'].count())"
   ]
  }
 ],
 "metadata": {
  "kernelspec": {
   "display_name": "Python 3",
   "language": "python",
   "name": "python3"
  },
  "language_info": {
   "codemirror_mode": {
    "name": "ipython",
    "version": 2
   },
   "file_extension": ".py",
   "mimetype": "text/x-python",
   "name": "python",
   "nbconvert_exporter": "python",
   "pygments_lexer": "ipython2",
   "version": "2.7.6"
  }
 },
 "nbformat": 4,
 "nbformat_minor": 5
}
