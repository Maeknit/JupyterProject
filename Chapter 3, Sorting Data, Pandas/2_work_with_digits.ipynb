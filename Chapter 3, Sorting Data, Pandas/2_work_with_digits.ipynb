{
 "cells": [
  {
   "metadata": {},
   "cell_type": "markdown",
   "source": "# Работа с числами",
   "id": "786697b434558721"
  },
  {
   "metadata": {},
   "cell_type": "markdown",
   "source": "### Нахождение минимума и прочих арифметических выражений",
   "id": "dc3958a08d96a414"
  },
  {
   "cell_type": "code",
   "id": "initial_id",
   "metadata": {
    "collapsed": true,
    "ExecuteTime": {
     "end_time": "2025-09-29T12:11:33.136087Z",
     "start_time": "2025-09-29T12:11:33.126481Z"
    }
   },
   "source": [
    "import pandas as pd\n",
    "dataframe = pd.read_csv(\"../data/titanic.csv\")\n",
    "\n",
    "print('Максимум:', dataframe['Age'].max())\n",
    "print('Минимум:', dataframe['Age'].min())\n",
    "print('Среднее:', dataframe['Age'].mean())\n",
    "print('Сумма:', dataframe['Age'].sum())\n",
    "print('Количество:', dataframe['Age'].count())"
   ],
   "outputs": [
    {
     "name": "stdout",
     "output_type": "stream",
     "text": [
      "Максимум: 71.0\n",
      "Минимум: 0.17\n",
      "Среднее: 30.397989417989418\n",
      "Сумма: 22980.88\n",
      "Количество: 756\n"
     ]
    }
   ],
   "execution_count": 5
  },
  {
   "metadata": {
    "ExecuteTime": {
     "end_time": "2025-09-29T12:15:09.187604Z",
     "start_time": "2025-09-29T12:15:09.177890Z"
    }
   },
   "cell_type": "code",
   "source": [
    "print('дисперсия:', dataframe['Age'].var())\n",
    "print('стандартное отклонение:', dataframe['Age'].std())\n",
    "print('коэффициент эксцесса:', dataframe['Age'].kurt())\n",
    "print('коэффициент асимметрии:', dataframe['Age'].skew())\n",
    "print('стандартная ошибка среднего:', dataframe['Age'].sem())"
   ],
   "id": "85261e156a90dddd",
   "outputs": [
    {
     "name": "stdout",
     "output_type": "stream",
     "text": [
      "дисперсия: 203.32047012439116\n",
      "стандартное отклонение: 14.259048710359018\n",
      "коэффициент эксцесса: -0.036536168924722556\n",
      "коэффициент асимметрии: 0.36851087371648295\n",
      "стандартная ошибка среднего: 0.5185965877244655\n"
     ]
    }
   ],
   "execution_count": 7
  },
  {
   "metadata": {},
   "cell_type": "markdown",
   "source": "### Нахождение уникальных значений",
   "id": "9dddc109e963e6d6"
  },
  {
   "metadata": {
    "ExecuteTime": {
     "end_time": "2025-09-29T12:16:51.496340Z",
     "start_time": "2025-09-29T12:16:51.487682Z"
    }
   },
   "cell_type": "code",
   "source": "dataframe['Sex'].unique()",
   "id": "fd4732cf8acc36a6",
   "outputs": [
    {
     "data": {
      "text/plain": [
       "array(['female', 'male'], dtype=object)"
      ]
     },
     "execution_count": 8,
     "metadata": {},
     "output_type": "execute_result"
    }
   ],
   "execution_count": 8
  },
  {
   "metadata": {
    "ExecuteTime": {
     "end_time": "2025-09-29T12:17:22.263600Z",
     "start_time": "2025-09-29T12:17:22.253291Z"
    }
   },
   "cell_type": "code",
   "source": "dataframe['Sex'].value_counts()",
   "id": "6c7bacf5bde8492",
   "outputs": [
    {
     "data": {
      "text/plain": [
       "Sex\n",
       "male      851\n",
       "female    462\n",
       "Name: count, dtype: int64"
      ]
     },
     "execution_count": 9,
     "metadata": {},
     "output_type": "execute_result"
    }
   ],
   "execution_count": 9
  },
  {
   "metadata": {
    "ExecuteTime": {
     "end_time": "2025-09-29T12:18:17.269119Z",
     "start_time": "2025-09-29T12:18:17.261761Z"
    }
   },
   "cell_type": "code",
   "source": "dataframe['PClass'].value_counts()",
   "id": "4ba8618f0a05fb13",
   "outputs": [
    {
     "data": {
      "text/plain": [
       "PClass\n",
       "3rd    711\n",
       "1st    322\n",
       "2nd    279\n",
       "*        1\n",
       "Name: count, dtype: int64"
      ]
     },
     "execution_count": 11,
     "metadata": {},
     "output_type": "execute_result"
    }
   ],
   "execution_count": 11
  },
  {
   "metadata": {},
   "cell_type": "markdown",
   "source": "_Аномалия одно значение имеет *_",
   "id": "b241a001b10909bc"
  },
  {
   "metadata": {},
   "cell_type": "markdown",
   "source": "### Пропущенные значения",
   "id": "b22a367e138119eb"
  },
  {
   "metadata": {
    "ExecuteTime": {
     "end_time": "2025-09-29T12:42:04.347987Z",
     "start_time": "2025-09-29T12:42:04.335374Z"
    }
   },
   "cell_type": "code",
   "source": [
    "dataframe = pd.read_csv(\"../data/titanic.csv\")\n",
    "dataframe[dataframe['Age'].isnull()].head(2)"
   ],
   "id": "cf607179fa2af7bd",
   "outputs": [
    {
     "data": {
      "text/plain": [
       "                            Name PClass  Age     Sex  Survived  SexCode\n",
       "12  Aubert, Mrs Leontine Pauline    1st  NaN  female         1        1\n",
       "13      Barkworth, Mr Algernon H    1st  NaN    male         1        0"
      ],
      "text/html": [
       "<div>\n",
       "<style scoped>\n",
       "    .dataframe tbody tr th:only-of-type {\n",
       "        vertical-align: middle;\n",
       "    }\n",
       "\n",
       "    .dataframe tbody tr th {\n",
       "        vertical-align: top;\n",
       "    }\n",
       "\n",
       "    .dataframe thead th {\n",
       "        text-align: right;\n",
       "    }\n",
       "</style>\n",
       "<table border=\"1\" class=\"dataframe\">\n",
       "  <thead>\n",
       "    <tr style=\"text-align: right;\">\n",
       "      <th></th>\n",
       "      <th>Name</th>\n",
       "      <th>PClass</th>\n",
       "      <th>Age</th>\n",
       "      <th>Sex</th>\n",
       "      <th>Survived</th>\n",
       "      <th>SexCode</th>\n",
       "    </tr>\n",
       "  </thead>\n",
       "  <tbody>\n",
       "    <tr>\n",
       "      <th>12</th>\n",
       "      <td>Aubert, Mrs Leontine Pauline</td>\n",
       "      <td>1st</td>\n",
       "      <td>NaN</td>\n",
       "      <td>female</td>\n",
       "      <td>1</td>\n",
       "      <td>1</td>\n",
       "    </tr>\n",
       "    <tr>\n",
       "      <th>13</th>\n",
       "      <td>Barkworth, Mr Algernon H</td>\n",
       "      <td>1st</td>\n",
       "      <td>NaN</td>\n",
       "      <td>male</td>\n",
       "      <td>1</td>\n",
       "      <td>0</td>\n",
       "    </tr>\n",
       "  </tbody>\n",
       "</table>\n",
       "</div>"
      ]
     },
     "execution_count": 27,
     "metadata": {},
     "output_type": "execute_result"
    }
   ],
   "execution_count": 27
  },
  {
   "metadata": {},
   "cell_type": "markdown",
   "source": "*Важное замечание для меня. В библиотеке pandas для обозначения пропущенных значений используется значение NaN библиотеки ***Numpy****",
   "id": "b3c14431cd5352ec"
  },
  {
   "metadata": {
    "ExecuteTime": {
     "end_time": "2025-09-29T12:41:55.035934Z",
     "start_time": "2025-09-29T12:41:55.024297Z"
    }
   },
   "cell_type": "code",
   "source": [
    "#Изменим значения в первых 15 строках\n",
    "import numpy as np\n",
    "dataframe.loc[:14,'Sex'] = dataframe.loc[:14,'Sex'].replace(np.nan, 'male')\n",
    "dataframe.head(14)"
   ],
   "id": "f4a2204298bf9f5f",
   "outputs": [
    {
     "data": {
      "text/plain": [
       "                                                Name PClass    Age     Sex  \\\n",
       "0                       Allen, Miss Elisabeth Walton    1st  29.00  female   \n",
       "1                        Allison, Miss Helen Loraine    1st   2.00  female   \n",
       "2                Allison, Mr Hudson Joshua Creighton    1st  30.00    male   \n",
       "3      Allison, Mrs Hudson JC (Bessie Waldo Daniels)    1st  25.00  female   \n",
       "4                      Allison, Master Hudson Trevor    1st   0.92    male   \n",
       "5                                 Anderson, Mr Harry    1st  47.00    male   \n",
       "6                   Andrews, Miss Kornelia Theodosia    1st  63.00  female   \n",
       "7                             Andrews, Mr Thomas, jr    1st  39.00    male   \n",
       "8       Appleton, Mrs Edward Dale (Charlotte Lamson)    1st  58.00  female   \n",
       "9                             Artagaveytia, Mr Ramon    1st  71.00    male   \n",
       "10                         Astor, Colonel John Jacob    1st  47.00    male   \n",
       "11  Astor, Mrs John Jacob (Madeleine Talmadge Force)    1st  19.00  female   \n",
       "12                      Aubert, Mrs Leontine Pauline    1st    NaN  female   \n",
       "13                          Barkworth, Mr Algernon H    1st    NaN    male   \n",
       "\n",
       "    Survived  SexCode  \n",
       "0          1        1  \n",
       "1          0        1  \n",
       "2          0        0  \n",
       "3          0        1  \n",
       "4          1        0  \n",
       "5          1        0  \n",
       "6          1        1  \n",
       "7          0        0  \n",
       "8          1        1  \n",
       "9          0        0  \n",
       "10         0        0  \n",
       "11         1        1  \n",
       "12         1        1  \n",
       "13         1        0  "
      ],
      "text/html": [
       "<div>\n",
       "<style scoped>\n",
       "    .dataframe tbody tr th:only-of-type {\n",
       "        vertical-align: middle;\n",
       "    }\n",
       "\n",
       "    .dataframe tbody tr th {\n",
       "        vertical-align: top;\n",
       "    }\n",
       "\n",
       "    .dataframe thead th {\n",
       "        text-align: right;\n",
       "    }\n",
       "</style>\n",
       "<table border=\"1\" class=\"dataframe\">\n",
       "  <thead>\n",
       "    <tr style=\"text-align: right;\">\n",
       "      <th></th>\n",
       "      <th>Name</th>\n",
       "      <th>PClass</th>\n",
       "      <th>Age</th>\n",
       "      <th>Sex</th>\n",
       "      <th>Survived</th>\n",
       "      <th>SexCode</th>\n",
       "    </tr>\n",
       "  </thead>\n",
       "  <tbody>\n",
       "    <tr>\n",
       "      <th>0</th>\n",
       "      <td>Allen, Miss Elisabeth Walton</td>\n",
       "      <td>1st</td>\n",
       "      <td>29.00</td>\n",
       "      <td>female</td>\n",
       "      <td>1</td>\n",
       "      <td>1</td>\n",
       "    </tr>\n",
       "    <tr>\n",
       "      <th>1</th>\n",
       "      <td>Allison, Miss Helen Loraine</td>\n",
       "      <td>1st</td>\n",
       "      <td>2.00</td>\n",
       "      <td>female</td>\n",
       "      <td>0</td>\n",
       "      <td>1</td>\n",
       "    </tr>\n",
       "    <tr>\n",
       "      <th>2</th>\n",
       "      <td>Allison, Mr Hudson Joshua Creighton</td>\n",
       "      <td>1st</td>\n",
       "      <td>30.00</td>\n",
       "      <td>male</td>\n",
       "      <td>0</td>\n",
       "      <td>0</td>\n",
       "    </tr>\n",
       "    <tr>\n",
       "      <th>3</th>\n",
       "      <td>Allison, Mrs Hudson JC (Bessie Waldo Daniels)</td>\n",
       "      <td>1st</td>\n",
       "      <td>25.00</td>\n",
       "      <td>female</td>\n",
       "      <td>0</td>\n",
       "      <td>1</td>\n",
       "    </tr>\n",
       "    <tr>\n",
       "      <th>4</th>\n",
       "      <td>Allison, Master Hudson Trevor</td>\n",
       "      <td>1st</td>\n",
       "      <td>0.92</td>\n",
       "      <td>male</td>\n",
       "      <td>1</td>\n",
       "      <td>0</td>\n",
       "    </tr>\n",
       "    <tr>\n",
       "      <th>5</th>\n",
       "      <td>Anderson, Mr Harry</td>\n",
       "      <td>1st</td>\n",
       "      <td>47.00</td>\n",
       "      <td>male</td>\n",
       "      <td>1</td>\n",
       "      <td>0</td>\n",
       "    </tr>\n",
       "    <tr>\n",
       "      <th>6</th>\n",
       "      <td>Andrews, Miss Kornelia Theodosia</td>\n",
       "      <td>1st</td>\n",
       "      <td>63.00</td>\n",
       "      <td>female</td>\n",
       "      <td>1</td>\n",
       "      <td>1</td>\n",
       "    </tr>\n",
       "    <tr>\n",
       "      <th>7</th>\n",
       "      <td>Andrews, Mr Thomas, jr</td>\n",
       "      <td>1st</td>\n",
       "      <td>39.00</td>\n",
       "      <td>male</td>\n",
       "      <td>0</td>\n",
       "      <td>0</td>\n",
       "    </tr>\n",
       "    <tr>\n",
       "      <th>8</th>\n",
       "      <td>Appleton, Mrs Edward Dale (Charlotte Lamson)</td>\n",
       "      <td>1st</td>\n",
       "      <td>58.00</td>\n",
       "      <td>female</td>\n",
       "      <td>1</td>\n",
       "      <td>1</td>\n",
       "    </tr>\n",
       "    <tr>\n",
       "      <th>9</th>\n",
       "      <td>Artagaveytia, Mr Ramon</td>\n",
       "      <td>1st</td>\n",
       "      <td>71.00</td>\n",
       "      <td>male</td>\n",
       "      <td>0</td>\n",
       "      <td>0</td>\n",
       "    </tr>\n",
       "    <tr>\n",
       "      <th>10</th>\n",
       "      <td>Astor, Colonel John Jacob</td>\n",
       "      <td>1st</td>\n",
       "      <td>47.00</td>\n",
       "      <td>male</td>\n",
       "      <td>0</td>\n",
       "      <td>0</td>\n",
       "    </tr>\n",
       "    <tr>\n",
       "      <th>11</th>\n",
       "      <td>Astor, Mrs John Jacob (Madeleine Talmadge Force)</td>\n",
       "      <td>1st</td>\n",
       "      <td>19.00</td>\n",
       "      <td>female</td>\n",
       "      <td>1</td>\n",
       "      <td>1</td>\n",
       "    </tr>\n",
       "    <tr>\n",
       "      <th>12</th>\n",
       "      <td>Aubert, Mrs Leontine Pauline</td>\n",
       "      <td>1st</td>\n",
       "      <td>NaN</td>\n",
       "      <td>female</td>\n",
       "      <td>1</td>\n",
       "      <td>1</td>\n",
       "    </tr>\n",
       "    <tr>\n",
       "      <th>13</th>\n",
       "      <td>Barkworth, Mr Algernon H</td>\n",
       "      <td>1st</td>\n",
       "      <td>NaN</td>\n",
       "      <td>male</td>\n",
       "      <td>1</td>\n",
       "      <td>0</td>\n",
       "    </tr>\n",
       "  </tbody>\n",
       "</table>\n",
       "</div>"
      ]
     },
     "execution_count": 26,
     "metadata": {},
     "output_type": "execute_result"
    }
   ],
   "execution_count": 26
  },
  {
   "metadata": {},
   "cell_type": "markdown",
   "source": "### Удаление столбцов",
   "id": "e18ea64a7b70f12c"
  },
  {
   "metadata": {
    "ExecuteTime": {
     "end_time": "2025-09-29T12:43:30.480672Z",
     "start_time": "2025-09-29T12:43:30.462956Z"
    }
   },
   "cell_type": "code",
   "source": [
    "dataframe = pd.read_csv('../data/titanic.csv')\n",
    "dataframe.drop('Age', axis=1).head(2)"
   ],
   "id": "b209b82a5c0e2330",
   "outputs": [
    {
     "data": {
      "text/plain": [
       "                           Name PClass     Sex  Survived  SexCode\n",
       "0  Allen, Miss Elisabeth Walton    1st  female         1        1\n",
       "1   Allison, Miss Helen Loraine    1st  female         0        1"
      ],
      "text/html": [
       "<div>\n",
       "<style scoped>\n",
       "    .dataframe tbody tr th:only-of-type {\n",
       "        vertical-align: middle;\n",
       "    }\n",
       "\n",
       "    .dataframe tbody tr th {\n",
       "        vertical-align: top;\n",
       "    }\n",
       "\n",
       "    .dataframe thead th {\n",
       "        text-align: right;\n",
       "    }\n",
       "</style>\n",
       "<table border=\"1\" class=\"dataframe\">\n",
       "  <thead>\n",
       "    <tr style=\"text-align: right;\">\n",
       "      <th></th>\n",
       "      <th>Name</th>\n",
       "      <th>PClass</th>\n",
       "      <th>Sex</th>\n",
       "      <th>Survived</th>\n",
       "      <th>SexCode</th>\n",
       "    </tr>\n",
       "  </thead>\n",
       "  <tbody>\n",
       "    <tr>\n",
       "      <th>0</th>\n",
       "      <td>Allen, Miss Elisabeth Walton</td>\n",
       "      <td>1st</td>\n",
       "      <td>female</td>\n",
       "      <td>1</td>\n",
       "      <td>1</td>\n",
       "    </tr>\n",
       "    <tr>\n",
       "      <th>1</th>\n",
       "      <td>Allison, Miss Helen Loraine</td>\n",
       "      <td>1st</td>\n",
       "      <td>female</td>\n",
       "      <td>0</td>\n",
       "      <td>1</td>\n",
       "    </tr>\n",
       "  </tbody>\n",
       "</table>\n",
       "</div>"
      ]
     },
     "execution_count": 29,
     "metadata": {},
     "output_type": "execute_result"
    }
   ],
   "execution_count": 29
  },
  {
   "metadata": {
    "ExecuteTime": {
     "end_time": "2025-09-29T12:45:03.241711Z",
     "start_time": "2025-09-29T12:45:03.233556Z"
    }
   },
   "cell_type": "code",
   "source": [
    "#Также можно удалить несколько столбцов (Списком)\n",
    "dataframe.drop(['Age','Sex'],axis=1).head(2)"
   ],
   "id": "165b375b6bb87a44",
   "outputs": [
    {
     "data": {
      "text/plain": [
       "                           Name PClass  Survived  SexCode\n",
       "0  Allen, Miss Elisabeth Walton    1st         1        1\n",
       "1   Allison, Miss Helen Loraine    1st         0        1"
      ],
      "text/html": [
       "<div>\n",
       "<style scoped>\n",
       "    .dataframe tbody tr th:only-of-type {\n",
       "        vertical-align: middle;\n",
       "    }\n",
       "\n",
       "    .dataframe tbody tr th {\n",
       "        vertical-align: top;\n",
       "    }\n",
       "\n",
       "    .dataframe thead th {\n",
       "        text-align: right;\n",
       "    }\n",
       "</style>\n",
       "<table border=\"1\" class=\"dataframe\">\n",
       "  <thead>\n",
       "    <tr style=\"text-align: right;\">\n",
       "      <th></th>\n",
       "      <th>Name</th>\n",
       "      <th>PClass</th>\n",
       "      <th>Survived</th>\n",
       "      <th>SexCode</th>\n",
       "    </tr>\n",
       "  </thead>\n",
       "  <tbody>\n",
       "    <tr>\n",
       "      <th>0</th>\n",
       "      <td>Allen, Miss Elisabeth Walton</td>\n",
       "      <td>1st</td>\n",
       "      <td>1</td>\n",
       "      <td>1</td>\n",
       "    </tr>\n",
       "    <tr>\n",
       "      <th>1</th>\n",
       "      <td>Allison, Miss Helen Loraine</td>\n",
       "      <td>1st</td>\n",
       "      <td>0</td>\n",
       "      <td>1</td>\n",
       "    </tr>\n",
       "  </tbody>\n",
       "</table>\n",
       "</div>"
      ]
     },
     "execution_count": 31,
     "metadata": {},
     "output_type": "execute_result"
    }
   ],
   "execution_count": 31
  },
  {
   "metadata": {
    "ExecuteTime": {
     "end_time": "2025-09-29T12:46:42.500625Z",
     "start_time": "2025-09-29T12:46:42.488706Z"
    }
   },
   "cell_type": "code",
   "source": [
    "#Удаление столба по его индексу\n",
    "dataframe.drop(dataframe.columns[1], axis=1).head(2)"
   ],
   "id": "35ec52abea82c593",
   "outputs": [
    {
     "data": {
      "text/plain": [
       "                           Name   Age     Sex  Survived  SexCode\n",
       "0  Allen, Miss Elisabeth Walton  29.0  female         1        1\n",
       "1   Allison, Miss Helen Loraine   2.0  female         0        1"
      ],
      "text/html": [
       "<div>\n",
       "<style scoped>\n",
       "    .dataframe tbody tr th:only-of-type {\n",
       "        vertical-align: middle;\n",
       "    }\n",
       "\n",
       "    .dataframe tbody tr th {\n",
       "        vertical-align: top;\n",
       "    }\n",
       "\n",
       "    .dataframe thead th {\n",
       "        text-align: right;\n",
       "    }\n",
       "</style>\n",
       "<table border=\"1\" class=\"dataframe\">\n",
       "  <thead>\n",
       "    <tr style=\"text-align: right;\">\n",
       "      <th></th>\n",
       "      <th>Name</th>\n",
       "      <th>Age</th>\n",
       "      <th>Sex</th>\n",
       "      <th>Survived</th>\n",
       "      <th>SexCode</th>\n",
       "    </tr>\n",
       "  </thead>\n",
       "  <tbody>\n",
       "    <tr>\n",
       "      <th>0</th>\n",
       "      <td>Allen, Miss Elisabeth Walton</td>\n",
       "      <td>29.0</td>\n",
       "      <td>female</td>\n",
       "      <td>1</td>\n",
       "      <td>1</td>\n",
       "    </tr>\n",
       "    <tr>\n",
       "      <th>1</th>\n",
       "      <td>Allison, Miss Helen Loraine</td>\n",
       "      <td>2.0</td>\n",
       "      <td>female</td>\n",
       "      <td>0</td>\n",
       "      <td>1</td>\n",
       "    </tr>\n",
       "  </tbody>\n",
       "</table>\n",
       "</div>"
      ]
     },
     "execution_count": 35,
     "metadata": {},
     "output_type": "execute_result"
    }
   ],
   "execution_count": 35
  },
  {
   "metadata": {},
   "cell_type": "markdown",
   "source": "### Удаление строки",
   "id": "a4bf25aea0ad2544"
  },
  {
   "metadata": {
    "ExecuteTime": {
     "end_time": "2025-09-29T12:48:12.789262Z",
     "start_time": "2025-09-29T12:48:12.777071Z"
    }
   },
   "cell_type": "code",
   "source": "dataframe[dataframe['Sex'] != 'male'].head(10)",
   "id": "410b99d89be3a37e",
   "outputs": [
    {
     "data": {
      "text/plain": [
       "                                                Name PClass   Age     Sex  \\\n",
       "0                       Allen, Miss Elisabeth Walton    1st  29.0  female   \n",
       "1                        Allison, Miss Helen Loraine    1st   2.0  female   \n",
       "3      Allison, Mrs Hudson JC (Bessie Waldo Daniels)    1st  25.0  female   \n",
       "6                   Andrews, Miss Kornelia Theodosia    1st  63.0  female   \n",
       "8       Appleton, Mrs Edward Dale (Charlotte Lamson)    1st  58.0  female   \n",
       "11  Astor, Mrs John Jacob (Madeleine Talmadge Force)    1st  19.0  female   \n",
       "12                      Aubert, Mrs Leontine Pauline    1st   NaN  female   \n",
       "15    Baxter, Mrs James (Helene DeLaudeniere Chaput)    1st  50.0  female   \n",
       "19   Beckwith, Mrs Richard Leonard (Sallie Monypeny)    1st  47.0  female   \n",
       "23            Bishop, Mrs Dickinson H (Helen Walton)    1st  19.0  female   \n",
       "\n",
       "    Survived  SexCode  \n",
       "0          1        1  \n",
       "1          0        1  \n",
       "3          0        1  \n",
       "6          1        1  \n",
       "8          1        1  \n",
       "11         1        1  \n",
       "12         1        1  \n",
       "15         1        1  \n",
       "19         1        1  \n",
       "23         1        1  "
      ],
      "text/html": [
       "<div>\n",
       "<style scoped>\n",
       "    .dataframe tbody tr th:only-of-type {\n",
       "        vertical-align: middle;\n",
       "    }\n",
       "\n",
       "    .dataframe tbody tr th {\n",
       "        vertical-align: top;\n",
       "    }\n",
       "\n",
       "    .dataframe thead th {\n",
       "        text-align: right;\n",
       "    }\n",
       "</style>\n",
       "<table border=\"1\" class=\"dataframe\">\n",
       "  <thead>\n",
       "    <tr style=\"text-align: right;\">\n",
       "      <th></th>\n",
       "      <th>Name</th>\n",
       "      <th>PClass</th>\n",
       "      <th>Age</th>\n",
       "      <th>Sex</th>\n",
       "      <th>Survived</th>\n",
       "      <th>SexCode</th>\n",
       "    </tr>\n",
       "  </thead>\n",
       "  <tbody>\n",
       "    <tr>\n",
       "      <th>0</th>\n",
       "      <td>Allen, Miss Elisabeth Walton</td>\n",
       "      <td>1st</td>\n",
       "      <td>29.0</td>\n",
       "      <td>female</td>\n",
       "      <td>1</td>\n",
       "      <td>1</td>\n",
       "    </tr>\n",
       "    <tr>\n",
       "      <th>1</th>\n",
       "      <td>Allison, Miss Helen Loraine</td>\n",
       "      <td>1st</td>\n",
       "      <td>2.0</td>\n",
       "      <td>female</td>\n",
       "      <td>0</td>\n",
       "      <td>1</td>\n",
       "    </tr>\n",
       "    <tr>\n",
       "      <th>3</th>\n",
       "      <td>Allison, Mrs Hudson JC (Bessie Waldo Daniels)</td>\n",
       "      <td>1st</td>\n",
       "      <td>25.0</td>\n",
       "      <td>female</td>\n",
       "      <td>0</td>\n",
       "      <td>1</td>\n",
       "    </tr>\n",
       "    <tr>\n",
       "      <th>6</th>\n",
       "      <td>Andrews, Miss Kornelia Theodosia</td>\n",
       "      <td>1st</td>\n",
       "      <td>63.0</td>\n",
       "      <td>female</td>\n",
       "      <td>1</td>\n",
       "      <td>1</td>\n",
       "    </tr>\n",
       "    <tr>\n",
       "      <th>8</th>\n",
       "      <td>Appleton, Mrs Edward Dale (Charlotte Lamson)</td>\n",
       "      <td>1st</td>\n",
       "      <td>58.0</td>\n",
       "      <td>female</td>\n",
       "      <td>1</td>\n",
       "      <td>1</td>\n",
       "    </tr>\n",
       "    <tr>\n",
       "      <th>11</th>\n",
       "      <td>Astor, Mrs John Jacob (Madeleine Talmadge Force)</td>\n",
       "      <td>1st</td>\n",
       "      <td>19.0</td>\n",
       "      <td>female</td>\n",
       "      <td>1</td>\n",
       "      <td>1</td>\n",
       "    </tr>\n",
       "    <tr>\n",
       "      <th>12</th>\n",
       "      <td>Aubert, Mrs Leontine Pauline</td>\n",
       "      <td>1st</td>\n",
       "      <td>NaN</td>\n",
       "      <td>female</td>\n",
       "      <td>1</td>\n",
       "      <td>1</td>\n",
       "    </tr>\n",
       "    <tr>\n",
       "      <th>15</th>\n",
       "      <td>Baxter, Mrs James (Helene DeLaudeniere Chaput)</td>\n",
       "      <td>1st</td>\n",
       "      <td>50.0</td>\n",
       "      <td>female</td>\n",
       "      <td>1</td>\n",
       "      <td>1</td>\n",
       "    </tr>\n",
       "    <tr>\n",
       "      <th>19</th>\n",
       "      <td>Beckwith, Mrs Richard Leonard (Sallie Monypeny)</td>\n",
       "      <td>1st</td>\n",
       "      <td>47.0</td>\n",
       "      <td>female</td>\n",
       "      <td>1</td>\n",
       "      <td>1</td>\n",
       "    </tr>\n",
       "    <tr>\n",
       "      <th>23</th>\n",
       "      <td>Bishop, Mrs Dickinson H (Helen Walton)</td>\n",
       "      <td>1st</td>\n",
       "      <td>19.0</td>\n",
       "      <td>female</td>\n",
       "      <td>1</td>\n",
       "      <td>1</td>\n",
       "    </tr>\n",
       "  </tbody>\n",
       "</table>\n",
       "</div>"
      ]
     },
     "execution_count": 37,
     "metadata": {},
     "output_type": "execute_result"
    }
   ],
   "execution_count": 37
  },
  {
   "metadata": {},
   "cell_type": "markdown",
   "source": "*Булевы функции отлично подходят для фильтра и форматирования таблиц по признаку*",
   "id": "332e1ea24d46c490"
  },
  {
   "metadata": {
    "ExecuteTime": {
     "end_time": "2025-09-29T12:51:55.326001Z",
     "start_time": "2025-09-29T12:51:55.311485Z"
    }
   },
   "cell_type": "code",
   "source": "dataframe[dataframe.index != 0].head(2)",
   "id": "b5da7c90e0d0a6f0",
   "outputs": [
    {
     "data": {
      "text/plain": [
       "                                  Name PClass   Age     Sex  Survived  SexCode\n",
       "1          Allison, Miss Helen Loraine    1st   2.0  female         0        1\n",
       "2  Allison, Mr Hudson Joshua Creighton    1st  30.0    male         0        0"
      ],
      "text/html": [
       "<div>\n",
       "<style scoped>\n",
       "    .dataframe tbody tr th:only-of-type {\n",
       "        vertical-align: middle;\n",
       "    }\n",
       "\n",
       "    .dataframe tbody tr th {\n",
       "        vertical-align: top;\n",
       "    }\n",
       "\n",
       "    .dataframe thead th {\n",
       "        text-align: right;\n",
       "    }\n",
       "</style>\n",
       "<table border=\"1\" class=\"dataframe\">\n",
       "  <thead>\n",
       "    <tr style=\"text-align: right;\">\n",
       "      <th></th>\n",
       "      <th>Name</th>\n",
       "      <th>PClass</th>\n",
       "      <th>Age</th>\n",
       "      <th>Sex</th>\n",
       "      <th>Survived</th>\n",
       "      <th>SexCode</th>\n",
       "    </tr>\n",
       "  </thead>\n",
       "  <tbody>\n",
       "    <tr>\n",
       "      <th>1</th>\n",
       "      <td>Allison, Miss Helen Loraine</td>\n",
       "      <td>1st</td>\n",
       "      <td>2.0</td>\n",
       "      <td>female</td>\n",
       "      <td>0</td>\n",
       "      <td>1</td>\n",
       "    </tr>\n",
       "    <tr>\n",
       "      <th>2</th>\n",
       "      <td>Allison, Mr Hudson Joshua Creighton</td>\n",
       "      <td>1st</td>\n",
       "      <td>30.0</td>\n",
       "      <td>male</td>\n",
       "      <td>0</td>\n",
       "      <td>0</td>\n",
       "    </tr>\n",
       "  </tbody>\n",
       "</table>\n",
       "</div>"
      ]
     },
     "execution_count": 38,
     "metadata": {},
     "output_type": "execute_result"
    }
   ],
   "execution_count": 38
  },
  {
   "metadata": {},
   "cell_type": "markdown",
   "source": "### Удаление повторяющихся строк",
   "id": "47c7ccac65b1fd22"
  },
  {
   "metadata": {
    "ExecuteTime": {
     "end_time": "2025-09-29T12:52:38.226871Z",
     "start_time": "2025-09-29T12:52:38.203138Z"
    }
   },
   "cell_type": "code",
   "source": "dataframe.drop_duplicates().head(2)",
   "id": "477f653ea16ba343",
   "outputs": [
    {
     "data": {
      "text/plain": [
       "                           Name PClass   Age     Sex  Survived  SexCode\n",
       "0  Allen, Miss Elisabeth Walton    1st  29.0  female         1        1\n",
       "1   Allison, Miss Helen Loraine    1st   2.0  female         0        1"
      ],
      "text/html": [
       "<div>\n",
       "<style scoped>\n",
       "    .dataframe tbody tr th:only-of-type {\n",
       "        vertical-align: middle;\n",
       "    }\n",
       "\n",
       "    .dataframe tbody tr th {\n",
       "        vertical-align: top;\n",
       "    }\n",
       "\n",
       "    .dataframe thead th {\n",
       "        text-align: right;\n",
       "    }\n",
       "</style>\n",
       "<table border=\"1\" class=\"dataframe\">\n",
       "  <thead>\n",
       "    <tr style=\"text-align: right;\">\n",
       "      <th></th>\n",
       "      <th>Name</th>\n",
       "      <th>PClass</th>\n",
       "      <th>Age</th>\n",
       "      <th>Sex</th>\n",
       "      <th>Survived</th>\n",
       "      <th>SexCode</th>\n",
       "    </tr>\n",
       "  </thead>\n",
       "  <tbody>\n",
       "    <tr>\n",
       "      <th>0</th>\n",
       "      <td>Allen, Miss Elisabeth Walton</td>\n",
       "      <td>1st</td>\n",
       "      <td>29.0</td>\n",
       "      <td>female</td>\n",
       "      <td>1</td>\n",
       "      <td>1</td>\n",
       "    </tr>\n",
       "    <tr>\n",
       "      <th>1</th>\n",
       "      <td>Allison, Miss Helen Loraine</td>\n",
       "      <td>1st</td>\n",
       "      <td>2.0</td>\n",
       "      <td>female</td>\n",
       "      <td>0</td>\n",
       "      <td>1</td>\n",
       "    </tr>\n",
       "  </tbody>\n",
       "</table>\n",
       "</div>"
      ]
     },
     "execution_count": 39,
     "metadata": {},
     "output_type": "execute_result"
    }
   ],
   "execution_count": 39
  },
  {
   "metadata": {},
   "cell_type": "markdown",
   "source": "*В датасете каждая строка имеет уникальное значение, поэтому следует рассмотреть только подмножество столбцов*",
   "id": "4909396332ee6d19"
  },
  {
   "metadata": {
    "ExecuteTime": {
     "end_time": "2025-09-29T13:05:43.597599Z",
     "start_time": "2025-09-29T13:05:43.586045Z"
    }
   },
   "cell_type": "code",
   "source": "dataframe.drop_duplicates(subset=['Sex'])",
   "id": "e3c84933d9f6c39b",
   "outputs": [
    {
     "data": {
      "text/plain": [
       "                                  Name PClass   Age     Sex  Survived  SexCode\n",
       "0         Allen, Miss Elisabeth Walton    1st  29.0  female         1        1\n",
       "2  Allison, Mr Hudson Joshua Creighton    1st  30.0    male         0        0"
      ],
      "text/html": [
       "<div>\n",
       "<style scoped>\n",
       "    .dataframe tbody tr th:only-of-type {\n",
       "        vertical-align: middle;\n",
       "    }\n",
       "\n",
       "    .dataframe tbody tr th {\n",
       "        vertical-align: top;\n",
       "    }\n",
       "\n",
       "    .dataframe thead th {\n",
       "        text-align: right;\n",
       "    }\n",
       "</style>\n",
       "<table border=\"1\" class=\"dataframe\">\n",
       "  <thead>\n",
       "    <tr style=\"text-align: right;\">\n",
       "      <th></th>\n",
       "      <th>Name</th>\n",
       "      <th>PClass</th>\n",
       "      <th>Age</th>\n",
       "      <th>Sex</th>\n",
       "      <th>Survived</th>\n",
       "      <th>SexCode</th>\n",
       "    </tr>\n",
       "  </thead>\n",
       "  <tbody>\n",
       "    <tr>\n",
       "      <th>0</th>\n",
       "      <td>Allen, Miss Elisabeth Walton</td>\n",
       "      <td>1st</td>\n",
       "      <td>29.0</td>\n",
       "      <td>female</td>\n",
       "      <td>1</td>\n",
       "      <td>1</td>\n",
       "    </tr>\n",
       "    <tr>\n",
       "      <th>2</th>\n",
       "      <td>Allison, Mr Hudson Joshua Creighton</td>\n",
       "      <td>1st</td>\n",
       "      <td>30.0</td>\n",
       "      <td>male</td>\n",
       "      <td>0</td>\n",
       "      <td>0</td>\n",
       "    </tr>\n",
       "  </tbody>\n",
       "</table>\n",
       "</div>"
      ]
     },
     "execution_count": 40,
     "metadata": {},
     "output_type": "execute_result"
    }
   ],
   "execution_count": 40
  },
  {
   "metadata": {},
   "cell_type": "markdown",
   "source": "*У нас всего 2 уникальных значений поэтому только 2 строки вывелось. Что произошло? Сначала по половому признаку нашлась одна строка, остальные с этим же значением были отброшены, далее до второго уникального значения*",
   "id": "de29a448bf2e64ff"
  },
  {
   "metadata": {
    "ExecuteTime": {
     "end_time": "2025-09-29T13:18:34.611448Z",
     "start_time": "2025-09-29T13:18:34.598484Z"
    }
   },
   "cell_type": "code",
   "source": "dataframe.drop_duplicates(subset=['Sex'],keep='last')",
   "id": "aead7f7c88ba5f28",
   "outputs": [
    {
     "data": {
      "text/plain": [
       "                     Name PClass   Age     Sex  Survived  SexCode\n",
       "1307  Zabour, Miss Tamini    3rd   NaN  female         0        1\n",
       "1312       Zimmerman, Leo    3rd  29.0    male         0        0"
      ],
      "text/html": [
       "<div>\n",
       "<style scoped>\n",
       "    .dataframe tbody tr th:only-of-type {\n",
       "        vertical-align: middle;\n",
       "    }\n",
       "\n",
       "    .dataframe tbody tr th {\n",
       "        vertical-align: top;\n",
       "    }\n",
       "\n",
       "    .dataframe thead th {\n",
       "        text-align: right;\n",
       "    }\n",
       "</style>\n",
       "<table border=\"1\" class=\"dataframe\">\n",
       "  <thead>\n",
       "    <tr style=\"text-align: right;\">\n",
       "      <th></th>\n",
       "      <th>Name</th>\n",
       "      <th>PClass</th>\n",
       "      <th>Age</th>\n",
       "      <th>Sex</th>\n",
       "      <th>Survived</th>\n",
       "      <th>SexCode</th>\n",
       "    </tr>\n",
       "  </thead>\n",
       "  <tbody>\n",
       "    <tr>\n",
       "      <th>1307</th>\n",
       "      <td>Zabour, Miss Tamini</td>\n",
       "      <td>3rd</td>\n",
       "      <td>NaN</td>\n",
       "      <td>female</td>\n",
       "      <td>0</td>\n",
       "      <td>1</td>\n",
       "    </tr>\n",
       "    <tr>\n",
       "      <th>1312</th>\n",
       "      <td>Zimmerman, Leo</td>\n",
       "      <td>3rd</td>\n",
       "      <td>29.0</td>\n",
       "      <td>male</td>\n",
       "      <td>0</td>\n",
       "      <td>0</td>\n",
       "    </tr>\n",
       "  </tbody>\n",
       "</table>\n",
       "</div>"
      ]
     },
     "execution_count": 41,
     "metadata": {},
     "output_type": "execute_result"
    }
   ],
   "execution_count": 41
  },
  {
   "metadata": {},
   "cell_type": "markdown",
   "source": "*Первые уникальные значения с конца*",
   "id": "649fdae2dce041b2"
  },
  {
   "metadata": {},
   "cell_type": "markdown",
   "source": "### Группирование строк по значениям",
   "id": "8100c5a20ee737b3"
  },
  {
   "metadata": {
    "ExecuteTime": {
     "end_time": "2025-09-29T13:28:11.884844Z",
     "start_time": "2025-09-29T13:28:11.865529Z"
    }
   },
   "cell_type": "code",
   "source": [
    "dataframe = pd.read_csv('../data/titanic.csv')\n",
    "dataframe.groupby('Sex').mean(numeric_only=True)"
   ],
   "id": "460669e86df1afe8",
   "outputs": [
    {
     "data": {
      "text/plain": [
       "              Age  Survived  SexCode\n",
       "Sex                                 \n",
       "female  29.396424  0.666667      1.0\n",
       "male    31.014338  0.166863      0.0"
      ],
      "text/html": [
       "<div>\n",
       "<style scoped>\n",
       "    .dataframe tbody tr th:only-of-type {\n",
       "        vertical-align: middle;\n",
       "    }\n",
       "\n",
       "    .dataframe tbody tr th {\n",
       "        vertical-align: top;\n",
       "    }\n",
       "\n",
       "    .dataframe thead th {\n",
       "        text-align: right;\n",
       "    }\n",
       "</style>\n",
       "<table border=\"1\" class=\"dataframe\">\n",
       "  <thead>\n",
       "    <tr style=\"text-align: right;\">\n",
       "      <th></th>\n",
       "      <th>Age</th>\n",
       "      <th>Survived</th>\n",
       "      <th>SexCode</th>\n",
       "    </tr>\n",
       "    <tr>\n",
       "      <th>Sex</th>\n",
       "      <th></th>\n",
       "      <th></th>\n",
       "      <th></th>\n",
       "    </tr>\n",
       "  </thead>\n",
       "  <tbody>\n",
       "    <tr>\n",
       "      <th>female</th>\n",
       "      <td>29.396424</td>\n",
       "      <td>0.666667</td>\n",
       "      <td>1.0</td>\n",
       "    </tr>\n",
       "    <tr>\n",
       "      <th>male</th>\n",
       "      <td>31.014338</td>\n",
       "      <td>0.166863</td>\n",
       "      <td>0.0</td>\n",
       "    </tr>\n",
       "  </tbody>\n",
       "</table>\n",
       "</div>"
      ]
     },
     "execution_count": 45,
     "metadata": {},
     "output_type": "execute_result"
    }
   ],
   "execution_count": 45
  },
  {
   "metadata": {
    "ExecuteTime": {
     "end_time": "2025-09-29T13:34:12.111488Z",
     "start_time": "2025-09-29T13:34:12.103301Z"
    }
   },
   "cell_type": "code",
   "source": "dataframe.groupby('Survived')['Name'].count()",
   "id": "f396d1cde704033d",
   "outputs": [
    {
     "data": {
      "text/plain": [
       "Survived\n",
       "0    863\n",
       "1    450\n",
       "Name: Name, dtype: int64"
      ]
     },
     "execution_count": 46,
     "metadata": {},
     "output_type": "execute_result"
    }
   ],
   "execution_count": 46
  },
  {
   "metadata": {
    "ExecuteTime": {
     "end_time": "2025-09-29T13:35:56.200535Z",
     "start_time": "2025-09-29T13:35:56.186892Z"
    }
   },
   "cell_type": "code",
   "source": "dataframe.groupby(['Sex','Survived'])['Age'].mean()",
   "id": "4e41eddf3f3315a9",
   "outputs": [
    {
     "data": {
      "text/plain": [
       "Sex     Survived\n",
       "female  0           24.901408\n",
       "        1           30.867143\n",
       "male    0           32.320780\n",
       "        1           25.951875\n",
       "Name: Age, dtype: float64"
      ]
     },
     "execution_count": 47,
     "metadata": {},
     "output_type": "execute_result"
    }
   ],
   "execution_count": 47
  },
  {
   "metadata": {},
   "cell_type": "markdown",
   "source": "*Сгруппировали данные по первому столбцу, а затем по второму столбцу*",
   "id": "4e248c0cad49e450"
  },
  {
   "metadata": {},
   "cell_type": "markdown",
   "source": "### Группировка строк по времени",
   "id": "a219ac8c1792adce"
  },
  {
   "metadata": {
    "ExecuteTime": {
     "end_time": "2025-09-29T13:41:02.136677Z",
     "start_time": "2025-09-29T13:41:02.109423Z"
    }
   },
   "cell_type": "code",
   "source": [
    "time_index = pd.date_range('06/06/2017', periods=100000, freq='30s')\n",
    "dataframe = pd.DataFrame(index=time_index)\n",
    "dataframe['Sale_Amount'] = np.random.randint(1, 10, 100000) #Генерация 100000 целочисленных значений от 1 до 10\n",
    "dataframe.resample('W').sum()"
   ],
   "id": "3183dd738208394a",
   "outputs": [
    {
     "data": {
      "text/plain": [
       "            Sale_Amount\n",
       "2017-06-11        86503\n",
       "2017-06-18       100582\n",
       "2017-06-25       101023\n",
       "2017-07-02       101222\n",
       "2017-07-09       100315\n",
       "2017-07-16        10302"
      ],
      "text/html": [
       "<div>\n",
       "<style scoped>\n",
       "    .dataframe tbody tr th:only-of-type {\n",
       "        vertical-align: middle;\n",
       "    }\n",
       "\n",
       "    .dataframe tbody tr th {\n",
       "        vertical-align: top;\n",
       "    }\n",
       "\n",
       "    .dataframe thead th {\n",
       "        text-align: right;\n",
       "    }\n",
       "</style>\n",
       "<table border=\"1\" class=\"dataframe\">\n",
       "  <thead>\n",
       "    <tr style=\"text-align: right;\">\n",
       "      <th></th>\n",
       "      <th>Sale_Amount</th>\n",
       "    </tr>\n",
       "  </thead>\n",
       "  <tbody>\n",
       "    <tr>\n",
       "      <th>2017-06-11</th>\n",
       "      <td>86503</td>\n",
       "    </tr>\n",
       "    <tr>\n",
       "      <th>2017-06-18</th>\n",
       "      <td>100582</td>\n",
       "    </tr>\n",
       "    <tr>\n",
       "      <th>2017-06-25</th>\n",
       "      <td>101023</td>\n",
       "    </tr>\n",
       "    <tr>\n",
       "      <th>2017-07-02</th>\n",
       "      <td>101222</td>\n",
       "    </tr>\n",
       "    <tr>\n",
       "      <th>2017-07-09</th>\n",
       "      <td>100315</td>\n",
       "    </tr>\n",
       "    <tr>\n",
       "      <th>2017-07-16</th>\n",
       "      <td>10302</td>\n",
       "    </tr>\n",
       "  </tbody>\n",
       "</table>\n",
       "</div>"
      ]
     },
     "execution_count": 51,
     "metadata": {},
     "output_type": "execute_result"
    }
   ],
   "execution_count": 51
  },
  {
   "metadata": {
    "ExecuteTime": {
     "end_time": "2025-09-29T13:42:35.766178Z",
     "start_time": "2025-09-29T13:42:35.758167Z"
    }
   },
   "cell_type": "code",
   "source": "dataframe.head(3)",
   "id": "562abccb35d6e1f4",
   "outputs": [
    {
     "data": {
      "text/plain": [
       "                     Sale_Amount\n",
       "2017-06-06 00:00:00            7\n",
       "2017-06-06 00:00:30            6\n",
       "2017-06-06 00:01:00            5"
      ],
      "text/html": [
       "<div>\n",
       "<style scoped>\n",
       "    .dataframe tbody tr th:only-of-type {\n",
       "        vertical-align: middle;\n",
       "    }\n",
       "\n",
       "    .dataframe tbody tr th {\n",
       "        vertical-align: top;\n",
       "    }\n",
       "\n",
       "    .dataframe thead th {\n",
       "        text-align: right;\n",
       "    }\n",
       "</style>\n",
       "<table border=\"1\" class=\"dataframe\">\n",
       "  <thead>\n",
       "    <tr style=\"text-align: right;\">\n",
       "      <th></th>\n",
       "      <th>Sale_Amount</th>\n",
       "    </tr>\n",
       "  </thead>\n",
       "  <tbody>\n",
       "    <tr>\n",
       "      <th>2017-06-06 00:00:00</th>\n",
       "      <td>7</td>\n",
       "    </tr>\n",
       "    <tr>\n",
       "      <th>2017-06-06 00:00:30</th>\n",
       "      <td>6</td>\n",
       "    </tr>\n",
       "    <tr>\n",
       "      <th>2017-06-06 00:01:00</th>\n",
       "      <td>5</td>\n",
       "    </tr>\n",
       "  </tbody>\n",
       "</table>\n",
       "</div>"
      ]
     },
     "execution_count": 52,
     "metadata": {},
     "output_type": "execute_result"
    }
   ],
   "execution_count": 52
  },
  {
   "metadata": {
    "ExecuteTime": {
     "end_time": "2025-09-29T13:51:32.041034Z",
     "start_time": "2025-09-29T13:51:32.029155Z"
    }
   },
   "cell_type": "code",
   "source": "dataframe.resample('ME').count()",
   "id": "afd15d54460a3a87",
   "outputs": [
    {
     "data": {
      "text/plain": [
       "            Sale_Amount\n",
       "2017-06-30        72000\n",
       "2017-07-31        28000"
      ],
      "text/html": [
       "<div>\n",
       "<style scoped>\n",
       "    .dataframe tbody tr th:only-of-type {\n",
       "        vertical-align: middle;\n",
       "    }\n",
       "\n",
       "    .dataframe tbody tr th {\n",
       "        vertical-align: top;\n",
       "    }\n",
       "\n",
       "    .dataframe thead th {\n",
       "        text-align: right;\n",
       "    }\n",
       "</style>\n",
       "<table border=\"1\" class=\"dataframe\">\n",
       "  <thead>\n",
       "    <tr style=\"text-align: right;\">\n",
       "      <th></th>\n",
       "      <th>Sale_Amount</th>\n",
       "    </tr>\n",
       "  </thead>\n",
       "  <tbody>\n",
       "    <tr>\n",
       "      <th>2017-06-30</th>\n",
       "      <td>72000</td>\n",
       "    </tr>\n",
       "    <tr>\n",
       "      <th>2017-07-31</th>\n",
       "      <td>28000</td>\n",
       "    </tr>\n",
       "  </tbody>\n",
       "</table>\n",
       "</div>"
      ]
     },
     "execution_count": 54,
     "metadata": {},
     "output_type": "execute_result"
    }
   ],
   "execution_count": 54
  },
  {
   "metadata": {},
   "cell_type": "markdown",
   "source": "*По умолчанию при группировке по дате метка времени ставится на конец периода (временной группы). Можно начинать отсчет с начала временного интервала. Наглядный пример:*",
   "id": "2292246b178621a4"
  },
  {
   "metadata": {
    "ExecuteTime": {
     "end_time": "2025-09-29T14:00:04.134178Z",
     "start_time": "2025-09-29T14:00:04.122458Z"
    }
   },
   "cell_type": "code",
   "source": "dataframe.resample('ME',label='left').count()",
   "id": "27b8f15276c04222",
   "outputs": [
    {
     "data": {
      "text/plain": [
       "            Sale_Amount\n",
       "2017-05-31        72000\n",
       "2017-06-30        28000"
      ],
      "text/html": [
       "<div>\n",
       "<style scoped>\n",
       "    .dataframe tbody tr th:only-of-type {\n",
       "        vertical-align: middle;\n",
       "    }\n",
       "\n",
       "    .dataframe tbody tr th {\n",
       "        vertical-align: top;\n",
       "    }\n",
       "\n",
       "    .dataframe thead th {\n",
       "        text-align: right;\n",
       "    }\n",
       "</style>\n",
       "<table border=\"1\" class=\"dataframe\">\n",
       "  <thead>\n",
       "    <tr style=\"text-align: right;\">\n",
       "      <th></th>\n",
       "      <th>Sale_Amount</th>\n",
       "    </tr>\n",
       "  </thead>\n",
       "  <tbody>\n",
       "    <tr>\n",
       "      <th>2017-05-31</th>\n",
       "      <td>72000</td>\n",
       "    </tr>\n",
       "    <tr>\n",
       "      <th>2017-06-30</th>\n",
       "      <td>28000</td>\n",
       "    </tr>\n",
       "  </tbody>\n",
       "</table>\n",
       "</div>"
      ]
     },
     "execution_count": 55,
     "metadata": {},
     "output_type": "execute_result"
    }
   ],
   "execution_count": 55
  }
 ],
 "metadata": {
  "kernelspec": {
   "display_name": "Python 3",
   "language": "python",
   "name": "python3"
  },
  "language_info": {
   "codemirror_mode": {
    "name": "ipython",
    "version": 2
   },
   "file_extension": ".py",
   "mimetype": "text/x-python",
   "name": "python",
   "nbconvert_exporter": "python",
   "pygments_lexer": "ipython2",
   "version": "2.7.6"
  }
 },
 "nbformat": 4,
 "nbformat_minor": 5
}
