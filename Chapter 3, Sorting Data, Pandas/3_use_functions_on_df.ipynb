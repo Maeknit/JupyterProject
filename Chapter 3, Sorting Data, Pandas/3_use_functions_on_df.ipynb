{
 "cells": [
  {
   "metadata": {},
   "cell_type": "markdown",
   "source": "# Использование функций, для изменения Dataframe",
   "id": "47b60d213a16d59d"
  },
  {
   "metadata": {},
   "cell_type": "markdown",
   "source": "### Обход столбца в цикле",
   "id": "afdd764225373109"
  },
  {
   "metadata": {
    "collapsed": true,
    "ExecuteTime": {
     "end_time": "2025-09-29T14:05:20.677202Z",
     "start_time": "2025-09-29T14:05:20.147030Z"
    }
   },
   "cell_type": "code",
   "source": [
    "import pandas as pd\n",
    "dataframe = pd.read_csv('../data/titanic.csv')\n",
    "\n",
    "for name in dataframe['Name'][0:2]:\n",
    "    print(name.upper())"
   ],
   "id": "aede5f53108ad47",
   "outputs": [
    {
     "name": "stdout",
     "output_type": "stream",
     "text": [
      "ALLEN, MISS ELISABETH WALTON\n",
      "ALLISON, MISS HELEN LORAINE\n"
     ]
    }
   ],
   "execution_count": 1
  },
  {
   "metadata": {
    "ExecuteTime": {
     "end_time": "2025-09-29T14:06:13.774830Z",
     "start_time": "2025-09-29T14:06:13.766088Z"
    }
   },
   "cell_type": "code",
   "source": "[name.upper() for name in dataframe['Name'][0:2]]",
   "id": "e7a97f1bf62c761f",
   "outputs": [
    {
     "data": {
      "text/plain": [
       "['ALLEN, MISS ELISABETH WALTON', 'ALLISON, MISS HELEN LORAINE']"
      ]
     },
     "execution_count": 2,
     "metadata": {},
     "output_type": "execute_result"
    }
   ],
   "execution_count": 2
  },
  {
   "metadata": {},
   "cell_type": "markdown",
   "source": "*Создание списка с применением for*",
   "id": "dede513fc3673864"
  },
  {
   "metadata": {
    "ExecuteTime": {
     "end_time": "2025-09-29T14:09:05.532930Z",
     "start_time": "2025-09-29T14:09:05.526376Z"
    }
   },
   "cell_type": "code",
   "source": [
    "def uppercase(x):\n",
    "    return x.upper()\n",
    "\n",
    "dataframe['Name'].apply(uppercase)[0:2]"
   ],
   "id": "96a379c3d17a839d",
   "outputs": [
    {
     "data": {
      "text/plain": [
       "0    ALLEN, MISS ELISABETH WALTON\n",
       "1     ALLISON, MISS HELEN LORAINE\n",
       "Name: Name, dtype: object"
      ]
     },
     "execution_count": 3,
     "metadata": {},
     "output_type": "execute_result"
    }
   ],
   "execution_count": 3
  },
  {
   "metadata": {},
   "cell_type": "code",
   "outputs": [],
   "execution_count": null,
   "source": "",
   "id": "32a7e930997aecb4"
  }
 ],
 "metadata": {
  "kernelspec": {
   "display_name": "Python 3",
   "language": "python",
   "name": "python3"
  },
  "language_info": {
   "codemirror_mode": {
    "name": "ipython",
    "version": 2
   },
   "file_extension": ".py",
   "mimetype": "text/x-python",
   "name": "python",
   "nbconvert_exporter": "python",
   "pygments_lexer": "ipython2",
   "version": "2.7.6"
  }
 },
 "nbformat": 4,
 "nbformat_minor": 5
}
