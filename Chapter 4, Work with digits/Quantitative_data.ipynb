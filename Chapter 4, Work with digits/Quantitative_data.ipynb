{
 "cells": [
  {
   "metadata": {},
   "cell_type": "markdown",
   "source": "### Шкалирование признака",
   "id": "6e4ad9c83d6c6a8e"
  },
  {
   "metadata": {
    "ExecuteTime": {
     "end_time": "2025-10-01T12:53:44.054114Z",
     "start_time": "2025-10-01T12:53:44.042676Z"
    }
   },
   "cell_type": "code",
   "source": [
    "import numpy as np\n",
    "from sklearn import preprocessing\n",
    "from sklearn.preprocessing import minmax_scale\n",
    "\n",
    "feature = np.array([[-500.5],[-100.1],[0],[100.1],[900.9]])\n",
    "minmax_scale = preprocessing.MinMaxScaler(feature_range=(0,1))\n",
    "scaled_feature = minmax_scale.fit_transform(feature)\n",
    "\n",
    "scaled_feature"
   ],
   "id": "23bd8dfd06afc26a",
   "outputs": [
    {
     "data": {
      "text/plain": [
       "array([[0.        ],\n",
       "       [0.28571429],\n",
       "       [0.35714286],\n",
       "       [0.42857143],\n",
       "       [1.        ]])"
      ]
     },
     "execution_count": 5,
     "metadata": {},
     "output_type": "execute_result"
    }
   ],
   "execution_count": 5
  },
  {
   "metadata": {},
   "cell_type": "markdown",
   "source": [
    "Шкалирование - общепринятая задача предобработки в машинном самообучении. <br>\n",
    "Многие алгоритмы исходят из того, что все признаки находятся на одинаковой шкале, как правило от 0 до 1. <br>\n",
    "Существует целый ряд методов шкалирования, один из самых простых - минимаксное шкалирование. <br>\n",
    "В таком шкалировании минимальное и максимальное значения признака используются для шкалирования значений в пределах диапазона <br>\n",
    "$$x'_1 = \\frac{x_1 - min(x)}{max(x)-min(x)}$$"
   ],
   "id": "c98ee5fefc88d9ec"
  },
  {
   "metadata": {},
   "cell_type": "markdown",
   "source": [
    "### Стандартизация признака <br>\n",
    "Требуется преобразовать признак, чтобы он имел среднее значение 0 и стандартное отклонение 1"
   ],
   "id": "7218d3ff83e70f7d"
  },
  {
   "metadata": {
    "ExecuteTime": {
     "end_time": "2025-10-02T12:27:54.502110Z",
     "start_time": "2025-10-02T12:27:54.471130Z"
    }
   },
   "cell_type": "code",
   "source": [
    "from sklearn import preprocessing\n",
    "x = np.array([[-1000.1],[-200.2],[500.5],[600.6],[9000.9]])\n",
    "\n",
    "scaler = preprocessing.StandardScaler()\n",
    "standardized = scaler.fit_transform(x)\n",
    "standardized"
   ],
   "id": "913a78bd832c1210",
   "outputs": [
    {
     "data": {
      "text/plain": [
       "array([[-0.76058269],\n",
       "       [-0.54177196],\n",
       "       [-0.35009716],\n",
       "       [-0.32271504],\n",
       "       [ 1.97516685]])"
      ]
     },
     "execution_count": 9,
     "metadata": {},
     "output_type": "execute_result"
    }
   ],
   "execution_count": 9
  },
  {
   "metadata": {},
   "cell_type": "markdown",
   "source": [
    "Альтернатива минимаксному шкалированию - шкалирование признаков, при котором они должны быть приближенно стандартно распределены. <br>\n",
    "Для этого используется стандартизация, в ходе которой даннные преобразуются таким образом, что они имеют среднее значение:\n",
    " $$\\bar{x}=0$$ <div align=\"center\">и стандартное отклонение </div> $$\\omega =1 $$\n",
    " <div align=\"center\">  </div>"
   ],
   "id": "bc16ff6265315f84"
  },
  {
   "metadata": {
    "ExecuteTime": {
     "end_time": "2025-10-02T12:29:27.710884Z",
     "start_time": "2025-10-02T12:29:27.701950Z"
    }
   },
   "cell_type": "code",
   "source": [
    "print(\"Среднее:\", round(standardized.mean()))\n",
    "print(\"Стандартное отклонение:\", round(standardized.std()))"
   ],
   "id": "c535de708654e853",
   "outputs": [
    {
     "name": "stdout",
     "output_type": "stream",
     "text": [
      "Среднее: 0\n",
      "Стандартное отклонение: 1\n"
     ]
    }
   ],
   "execution_count": 10
  },
  {
   "metadata": {},
   "cell_type": "code",
   "outputs": [],
   "execution_count": null,
   "source": "",
   "id": "c02a9ecca31863d4"
  }
 ],
 "metadata": {
  "kernelspec": {
   "display_name": "Python 3",
   "language": "python",
   "name": "python3"
  },
  "language_info": {
   "codemirror_mode": {
    "name": "ipython",
    "version": 2
   },
   "file_extension": ".py",
   "mimetype": "text/x-python",
   "name": "python",
   "nbconvert_exporter": "python",
   "pygments_lexer": "ipython2",
   "version": "2.7.6"
  }
 },
 "nbformat": 4,
 "nbformat_minor": 5
}
