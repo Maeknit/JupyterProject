{
 "cells": [
  {
   "metadata": {},
   "cell_type": "markdown",
   "source": "### Шкалирование признака",
   "id": "6e4ad9c83d6c6a8e"
  },
  {
   "metadata": {
    "ExecuteTime": {
     "end_time": "2025-10-01T12:53:44.054114Z",
     "start_time": "2025-10-01T12:53:44.042676Z"
    }
   },
   "cell_type": "code",
   "source": [
    "import numpy as np\n",
    "from sklearn import preprocessing\n",
    "from sklearn.preprocessing import minmax_scale\n",
    "\n",
    "feature = np.array([[-500.5],[-100.1],[0],[100.1],[900.9]])\n",
    "minmax_scale = preprocessing.MinMaxScaler(feature_range=(0,1))\n",
    "scaled_feature = minmax_scale.fit_transform(feature)\n",
    "\n",
    "scaled_feature"
   ],
   "id": "23bd8dfd06afc26a",
   "outputs": [
    {
     "data": {
      "text/plain": [
       "array([[0.        ],\n",
       "       [0.28571429],\n",
       "       [0.35714286],\n",
       "       [0.42857143],\n",
       "       [1.        ]])"
      ]
     },
     "execution_count": 5,
     "metadata": {},
     "output_type": "execute_result"
    }
   ],
   "execution_count": 5
  },
  {
   "metadata": {},
   "cell_type": "markdown",
   "source": [
    "Шкалирование - общепринятая задача предобработки в машинном самообучении. <br>\n",
    "Многие алгоритмы исходят из того, что все признаки находятся на одинаковой шкале, как правило от 0 до 1. <br>\n",
    "Существует целый ряд методов шкалирования, один из самых простых - минимаксное шкалирование. <br>\n",
    "В таком шкалировании минимальное и максимальное значения признака используются для шкалирования значений в пределах диапазона <br>\n",
    "$$x'_1 = \\frac{x_1 - min(x)}{max(x)-min(x)}$$"
   ],
   "id": "c98ee5fefc88d9ec"
  },
  {
   "metadata": {},
   "cell_type": "code",
   "outputs": [],
   "execution_count": null,
   "source": "",
   "id": "88ee9b66e01d5f30"
  }
 ],
 "metadata": {
  "kernelspec": {
   "display_name": "Python 3",
   "language": "python",
   "name": "python3"
  },
  "language_info": {
   "codemirror_mode": {
    "name": "ipython",
    "version": 2
   },
   "file_extension": ".py",
   "mimetype": "text/x-python",
   "name": "python",
   "nbconvert_exporter": "python",
   "pygments_lexer": "ipython2",
   "version": "2.7.6"
  }
 },
 "nbformat": 4,
 "nbformat_minor": 5
}
