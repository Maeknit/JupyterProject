{
 "cells": [
  {
   "metadata": {},
   "cell_type": "markdown",
   "source": [
    "### Обнаружение выбросов\n",
    "Пусть будет эллипс, наблюдения внутри него будут 1, а вне -1"
   ],
   "id": "83a6164ae496a7d"
  },
  {
   "cell_type": "code",
   "id": "initial_id",
   "metadata": {
    "collapsed": true,
    "ExecuteTime": {
     "end_time": "2025-10-10T15:17:49.820938Z",
     "start_time": "2025-10-10T15:17:49.774152Z"
    }
   },
   "source": [
    "import numpy as np\n",
    "import pandas as pd\n",
    "from attr import dataclass\n",
    "from sklearn.covariance import EllipticEnvelope\n",
    "from sklearn.datasets import make_blobs\n",
    "from sklearn.preprocessing import StandardScaler\n",
    "\n",
    "features, _ = make_blobs(n_samples=10, n_features=2, centers=1, random_state=1)\n",
    "features[0,0] = 10000\n",
    "features[0,1] = 10000\n",
    "\n",
    "outlier_detector = EllipticEnvelope(contamination=0.1)\n",
    "outlier_detector.fit(features)\n",
    "outlier_detector.predict(features)"
   ],
   "outputs": [
    {
     "data": {
      "text/plain": [
       "array([-1,  1,  1,  1,  1,  1,  1,  1,  1,  1])"
      ]
     },
     "execution_count": 9,
     "metadata": {},
     "output_type": "execute_result"
    }
   ],
   "execution_count": 9
  },
  {
   "metadata": {},
   "cell_type": "markdown",
   "source": [
    "Если мы ожидаем, что наши данные будут иметь несколько выбросов, мы можем задать параметр contamination с каким-нибудь небольшим значением.<br>\n",
    "Вместо того чтобы смотреть на наблюдения в целом, мы можем взглянуть на отдельные признаки и идентифицировать в этих признаках предельные значения, <br>\n",
    "используя межквартильный размах (MKP, IQR)"
   ],
   "id": "4c951c1d5fc5a26b"
  },
  {
   "metadata": {
    "ExecuteTime": {
     "end_time": "2025-10-10T15:17:50.193271Z",
     "start_time": "2025-10-10T15:17:50.184173Z"
    }
   },
   "cell_type": "code",
   "source": [
    "feature = features[:,0]\n",
    "def indicies_of_outliers(x):\n",
    "    q1,q3 = np.percentile(x,[25,75])\n",
    "    iqr = q3 - q1\n",
    "    lower_bound = q1 - (iqr * 1.5)\n",
    "    upper_bound = q3 + (iqr * 1.5)\n",
    "    return np.where((x >= upper_bound) & (x <= lower_bound))\n",
    "indicies_of_outliers(feature)"
   ],
   "id": "fa0c4c288b32e7b6",
   "outputs": [
    {
     "data": {
      "text/plain": [
       "(array([], dtype=int64),)"
      ]
     },
     "execution_count": 10,
     "metadata": {},
     "output_type": "execute_result"
    }
   ],
   "execution_count": 10
  },
  {
   "metadata": {},
   "cell_type": "markdown",
   "source": [
    "Единого наилучшего метода обнаружения выбросов не существует. Вместо этого у нас есть коллекция методов, все со своими преимуществами и недостатками, наилучшая стратегия использовать несколько методов и смотреть на результаты в целом. <br>\n",
    "Возьмем набор данных о домах, в котором одним из признаков является количество комнат. Является ли выброс со 100 комнатами действительно домом или это отель который был неправильно классифицирован?"
   ],
   "id": "36c7f954ce829a27"
  },
  {
   "metadata": {},
   "cell_type": "markdown",
   "source": [
    "### Обработка выбросов\n",
    "имеются выброс. Мы можем использовать 3 стратегии.<br>\n",
    "Можем их отбросить.<br>\n",
    "Пометить как выбросы и включить в качестве признака.<br>\n",
    "Можем преобразовать признак, чтобы ослабить эффект выброса."
   ],
   "id": "e2a3d11608a6537f"
  },
  {
   "metadata": {
    "ExecuteTime": {
     "end_time": "2025-10-10T15:18:34.624976Z",
     "start_time": "2025-10-10T15:18:34.610419Z"
    }
   },
   "cell_type": "code",
   "source": [
    "#Отбросить\n",
    "houses = pd.DataFrame()\n",
    "houses['Цена'] = [534433, 392333, 293222, 4322032]\n",
    "houses['Ванные'] = [2, 3.5, 2, 116]\n",
    "houses['Кв_футы'] = [1500, 2500, 1500, 48000]\n",
    "houses[houses['Ванные']<20]"
   ],
   "id": "3c47564d1c5aa77d",
   "outputs": [
    {
     "data": {
      "text/plain": [
       "     Цена  Ванные  Кв_футы\n",
       "0  534433     2.0     1500\n",
       "1  392333     3.5     2500\n",
       "2  293222     2.0     1500"
      ],
      "text/html": [
       "<div>\n",
       "<style scoped>\n",
       "    .dataframe tbody tr th:only-of-type {\n",
       "        vertical-align: middle;\n",
       "    }\n",
       "\n",
       "    .dataframe tbody tr th {\n",
       "        vertical-align: top;\n",
       "    }\n",
       "\n",
       "    .dataframe thead th {\n",
       "        text-align: right;\n",
       "    }\n",
       "</style>\n",
       "<table border=\"1\" class=\"dataframe\">\n",
       "  <thead>\n",
       "    <tr style=\"text-align: right;\">\n",
       "      <th></th>\n",
       "      <th>Цена</th>\n",
       "      <th>Ванные</th>\n",
       "      <th>Кв_футы</th>\n",
       "    </tr>\n",
       "  </thead>\n",
       "  <tbody>\n",
       "    <tr>\n",
       "      <th>0</th>\n",
       "      <td>534433</td>\n",
       "      <td>2.0</td>\n",
       "      <td>1500</td>\n",
       "    </tr>\n",
       "    <tr>\n",
       "      <th>1</th>\n",
       "      <td>392333</td>\n",
       "      <td>3.5</td>\n",
       "      <td>2500</td>\n",
       "    </tr>\n",
       "    <tr>\n",
       "      <th>2</th>\n",
       "      <td>293222</td>\n",
       "      <td>2.0</td>\n",
       "      <td>1500</td>\n",
       "    </tr>\n",
       "  </tbody>\n",
       "</table>\n",
       "</div>"
      ]
     },
     "execution_count": 14,
     "metadata": {},
     "output_type": "execute_result"
    }
   ],
   "execution_count": 14
  },
  {
   "metadata": {
    "ExecuteTime": {
     "end_time": "2025-10-10T15:19:41.861057Z",
     "start_time": "2025-10-10T15:19:41.852689Z"
    }
   },
   "cell_type": "code",
   "source": [
    "#Пометить как выброс и включить\n",
    "houses[\"Выброс\"] = np.where(houses[\"Ванные\"] < 20, 0, 1)\n",
    "houses"
   ],
   "id": "d23eaa5dc0ce51e7",
   "outputs": [
    {
     "data": {
      "text/plain": [
       "      Цена  Ванные  Кв_футы  Выброс\n",
       "0   534433     2.0     1500       0\n",
       "1   392333     3.5     2500       0\n",
       "2   293222     2.0     1500       0\n",
       "3  4322032   116.0    48000       1"
      ],
      "text/html": [
       "<div>\n",
       "<style scoped>\n",
       "    .dataframe tbody tr th:only-of-type {\n",
       "        vertical-align: middle;\n",
       "    }\n",
       "\n",
       "    .dataframe tbody tr th {\n",
       "        vertical-align: top;\n",
       "    }\n",
       "\n",
       "    .dataframe thead th {\n",
       "        text-align: right;\n",
       "    }\n",
       "</style>\n",
       "<table border=\"1\" class=\"dataframe\">\n",
       "  <thead>\n",
       "    <tr style=\"text-align: right;\">\n",
       "      <th></th>\n",
       "      <th>Цена</th>\n",
       "      <th>Ванные</th>\n",
       "      <th>Кв_футы</th>\n",
       "      <th>Выброс</th>\n",
       "    </tr>\n",
       "  </thead>\n",
       "  <tbody>\n",
       "    <tr>\n",
       "      <th>0</th>\n",
       "      <td>534433</td>\n",
       "      <td>2.0</td>\n",
       "      <td>1500</td>\n",
       "      <td>0</td>\n",
       "    </tr>\n",
       "    <tr>\n",
       "      <th>1</th>\n",
       "      <td>392333</td>\n",
       "      <td>3.5</td>\n",
       "      <td>2500</td>\n",
       "      <td>0</td>\n",
       "    </tr>\n",
       "    <tr>\n",
       "      <th>2</th>\n",
       "      <td>293222</td>\n",
       "      <td>2.0</td>\n",
       "      <td>1500</td>\n",
       "      <td>0</td>\n",
       "    </tr>\n",
       "    <tr>\n",
       "      <th>3</th>\n",
       "      <td>4322032</td>\n",
       "      <td>116.0</td>\n",
       "      <td>48000</td>\n",
       "      <td>1</td>\n",
       "    </tr>\n",
       "  </tbody>\n",
       "</table>\n",
       "</div>"
      ]
     },
     "execution_count": 16,
     "metadata": {},
     "output_type": "execute_result"
    }
   ],
   "execution_count": 16
  },
  {
   "metadata": {
    "ExecuteTime": {
     "end_time": "2025-10-10T15:21:18.467443Z",
     "start_time": "2025-10-10T15:21:18.456712Z"
    }
   },
   "cell_type": "code",
   "source": [
    "#Преобразовать признак, ослабить эффект выброса\n",
    "houses[\"Логарифм_кв_футов\"] = [np.log(x) for x in houses[\"Кв_футы\"]]\n",
    "houses"
   ],
   "id": "1e4f52375a0498b7",
   "outputs": [
    {
     "data": {
      "text/plain": [
       "      Цена  Ванные  Кв_футы  Выброс  Логарифм_кв_футов\n",
       "0   534433     2.0     1500       0           7.313220\n",
       "1   392333     3.5     2500       0           7.824046\n",
       "2   293222     2.0     1500       0           7.313220\n",
       "3  4322032   116.0    48000       1          10.778956"
      ],
      "text/html": [
       "<div>\n",
       "<style scoped>\n",
       "    .dataframe tbody tr th:only-of-type {\n",
       "        vertical-align: middle;\n",
       "    }\n",
       "\n",
       "    .dataframe tbody tr th {\n",
       "        vertical-align: top;\n",
       "    }\n",
       "\n",
       "    .dataframe thead th {\n",
       "        text-align: right;\n",
       "    }\n",
       "</style>\n",
       "<table border=\"1\" class=\"dataframe\">\n",
       "  <thead>\n",
       "    <tr style=\"text-align: right;\">\n",
       "      <th></th>\n",
       "      <th>Цена</th>\n",
       "      <th>Ванные</th>\n",
       "      <th>Кв_футы</th>\n",
       "      <th>Выброс</th>\n",
       "      <th>Логарифм_кв_футов</th>\n",
       "    </tr>\n",
       "  </thead>\n",
       "  <tbody>\n",
       "    <tr>\n",
       "      <th>0</th>\n",
       "      <td>534433</td>\n",
       "      <td>2.0</td>\n",
       "      <td>1500</td>\n",
       "      <td>0</td>\n",
       "      <td>7.313220</td>\n",
       "    </tr>\n",
       "    <tr>\n",
       "      <th>1</th>\n",
       "      <td>392333</td>\n",
       "      <td>3.5</td>\n",
       "      <td>2500</td>\n",
       "      <td>0</td>\n",
       "      <td>7.824046</td>\n",
       "    </tr>\n",
       "    <tr>\n",
       "      <th>2</th>\n",
       "      <td>293222</td>\n",
       "      <td>2.0</td>\n",
       "      <td>1500</td>\n",
       "      <td>0</td>\n",
       "      <td>7.313220</td>\n",
       "    </tr>\n",
       "    <tr>\n",
       "      <th>3</th>\n",
       "      <td>4322032</td>\n",
       "      <td>116.0</td>\n",
       "      <td>48000</td>\n",
       "      <td>1</td>\n",
       "      <td>10.778956</td>\n",
       "    </tr>\n",
       "  </tbody>\n",
       "</table>\n",
       "</div>"
      ]
     },
     "execution_count": 17,
     "metadata": {},
     "output_type": "execute_result"
    }
   ],
   "execution_count": 17
  },
  {
   "metadata": {},
   "cell_type": "markdown",
   "source": [
    "Для начала нужно понять, что делать с данными выбросами. Это может быть:<br>\n",
    "а) Ошибки в данных, из-за сломанного датчика или неверного значения, можем его исключить или заменить на NaN <br>\n",
    "б) Являются подлинными предельными значениями, то более уместной будет маркировка их как выбросы или преобразование их значений <br><br>\n",
    "Для полноты картины я бы использовал визуализацию выбросов - чтобы понять их структуру. Точка может быть нормальной по каждому признаку, но аномальной в совокупности (например, возраст 25, доход 1 млн/мес.)"
   ],
   "id": "d055a1593b58a143"
  },
  {
   "metadata": {},
   "cell_type": "markdown",
   "source": [
    "### Группирование наблюдений с помощью кластеризации\n",
    "Требуется сгруппировать наблюдения так, чтобы похожие наблюдения находились в одной группе"
   ],
   "id": "54c1b9a95fad2a34"
  },
  {
   "metadata": {
    "ExecuteTime": {
     "end_time": "2025-10-10T15:35:19.574096Z",
     "start_time": "2025-10-10T15:35:19.555872Z"
    }
   },
   "cell_type": "code",
   "source": [
    "import pandas as pd\n",
    "from sklearn.datasets import make_blobs\n",
    "from sklearn.cluster import KMeans\n",
    "\n",
    "features, _ = make_blobs(n_samples=50, n_features=2, centers=3, random_state=1)\n",
    "dataframe = pd.DataFrame(features, columns=[\"Признак_1\", \"Признак_2\"])\n",
    "clusterer = KMeans(3, random_state=0)\n",
    "clusterer.fit(features)\n",
    "dataframe[\"Группа\"] = clusterer.predict(features)\n",
    "dataframe.head(5)"
   ],
   "id": "b2f3a9192eb04ca2",
   "outputs": [
    {
     "data": {
      "text/plain": [
       "   Признак_1  Признак_2  Группа\n",
       "0  -9.877554  -3.336145       2\n",
       "1  -7.287210  -8.353986       0\n",
       "2  -6.943061  -7.023744       0\n",
       "3  -7.440167  -8.791959       0\n",
       "4  -6.641388  -8.075888       0"
      ],
      "text/html": [
       "<div>\n",
       "<style scoped>\n",
       "    .dataframe tbody tr th:only-of-type {\n",
       "        vertical-align: middle;\n",
       "    }\n",
       "\n",
       "    .dataframe tbody tr th {\n",
       "        vertical-align: top;\n",
       "    }\n",
       "\n",
       "    .dataframe thead th {\n",
       "        text-align: right;\n",
       "    }\n",
       "</style>\n",
       "<table border=\"1\" class=\"dataframe\">\n",
       "  <thead>\n",
       "    <tr style=\"text-align: right;\">\n",
       "      <th></th>\n",
       "      <th>Признак_1</th>\n",
       "      <th>Признак_2</th>\n",
       "      <th>Группа</th>\n",
       "    </tr>\n",
       "  </thead>\n",
       "  <tbody>\n",
       "    <tr>\n",
       "      <th>0</th>\n",
       "      <td>-9.877554</td>\n",
       "      <td>-3.336145</td>\n",
       "      <td>2</td>\n",
       "    </tr>\n",
       "    <tr>\n",
       "      <th>1</th>\n",
       "      <td>-7.287210</td>\n",
       "      <td>-8.353986</td>\n",
       "      <td>0</td>\n",
       "    </tr>\n",
       "    <tr>\n",
       "      <th>2</th>\n",
       "      <td>-6.943061</td>\n",
       "      <td>-7.023744</td>\n",
       "      <td>0</td>\n",
       "    </tr>\n",
       "    <tr>\n",
       "      <th>3</th>\n",
       "      <td>-7.440167</td>\n",
       "      <td>-8.791959</td>\n",
       "      <td>0</td>\n",
       "    </tr>\n",
       "    <tr>\n",
       "      <th>4</th>\n",
       "      <td>-6.641388</td>\n",
       "      <td>-8.075888</td>\n",
       "      <td>0</td>\n",
       "    </tr>\n",
       "  </tbody>\n",
       "</table>\n",
       "</div>"
      ]
     },
     "execution_count": 20,
     "metadata": {},
     "output_type": "execute_result"
    }
   ],
   "execution_count": 20
  },
  {
   "metadata": {},
   "cell_type": "markdown",
   "source": "Кластеризация здесь используется как шаг предобработки. В частности для клатсеризации наблюдений в группы неконтролируемые (без учителя) обучающиеся алгоритмы, такие как метод k-средних",
   "id": "ec3f6535f8bd1bfd"
  },
  {
   "metadata": {},
   "cell_type": "markdown",
   "source": "### Удаление наблюдений с пропущенными значениями",
   "id": "7cee05d77f76580d"
  },
  {
   "metadata": {
    "ExecuteTime": {
     "end_time": "2025-10-10T15:40:39.015580Z",
     "start_time": "2025-10-10T15:40:39.009735Z"
    }
   },
   "cell_type": "code",
   "source": [
    "features = np.array([[1.1, 11.1],\n",
    "                     [2.2, 22.2],\n",
    "                     [3.3, 33.3],\n",
    "                     [4.4, 44.4],\n",
    "                     [np.nan, 55]])\n",
    "features[~np.isnan(features).any(axis=1)]"
   ],
   "id": "1b493f8204268c8d",
   "outputs": [
    {
     "data": {
      "text/plain": [
       "array([[ 1.1, 11.1],\n",
       "       [ 2.2, 22.2],\n",
       "       [ 3.3, 33.3],\n",
       "       [ 4.4, 44.4]])"
      ]
     },
     "execution_count": 21,
     "metadata": {},
     "output_type": "execute_result"
    }
   ],
   "execution_count": 21
  },
  {
   "metadata": {},
   "cell_type": "markdown",
   "source": [
    "Большинство машинно-обучающихся алгоритмов не могут обрабатывать пропущенные значения в массивах целей и признаков, по этой причине мы не можем игнорировать пропущенные значения в наших данных и должны решить эту проблему во время предобработки. <br><br>\n",
    "Самым простым решением - удаление каждого наблюдения, содержащего одно или несколько пропущенных значений. <br><br>\n",
    "Вместе с тем мы должны воздерживаться от удаления наблюдений с отсутствующими значениями. Их удаление является крайним средством, поскольку наш алгоритм теряет доступ к полезной информации, содержащейся в непропущенных значениях наблюдения. <br><br>Существует три типа пропущенных данных: <br>\n",
    "1) MCAR - Missing Completely At Random\n",
    "2) MAR - Missing At Random\n",
    "3) MNAR - Missing Not At Random <br>\n",
    "\n",
    "Иногда допустимо удалять MCAR или MAR, однако если значение MNAR, то факт, что значение пропущено, сам по себе является информацией. Удаление приводит данные к смещению, потому что мы удаляем наблюдения"
   ],
   "id": "61a3bed14ec6b83c"
  },
  {
   "metadata": {},
   "cell_type": "markdown",
   "source": [
    "### Импутация пропущенных значений\n",
    "*импутация - процесс замещения пропущенных, некорректных или несостоятельных значений другими значениями*"
   ],
   "id": "66f7b9c078513d28"
  },
  {
   "metadata": {
    "ExecuteTime": {
     "end_time": "2025-10-10T15:59:12.295252Z",
     "start_time": "2025-10-10T15:59:12.281446Z"
    }
   },
   "cell_type": "code",
   "source": [
    "#В учебнике упоминается - from fancyimpute import KNN - но он перестал работать после выпуска пособия\n",
    "from sklearn.impute import KNNImputer\n",
    "from sklearn.preprocessing import StandardScaler\n",
    "from sklearn.datasets import make_blobs\n",
    "features, _ = make_blobs(n_samples=1000, n_features= 2, random_state=1)\n",
    "scaler = StandardScaler()\n",
    "standardized_features = scaler.fit_transform(features)\n",
    "true_value = standardized_features[0, 0]\n",
    "standardized_features[0, 0] = np.nan\n",
    "\n",
    "# Импутировать пропущенные значения с помощью KNN\n",
    "imputer = KNNImputer(n_neighbors=5)  # ← аналог KNN(k=5)\n",
    "features_knn_imputed = imputer.fit_transform(standardized_features)\n",
    "\n",
    "# Сравнить истинное и восстановленное значения\n",
    "print(\"Истинное значение:\", true_value)\n",
    "print(\"Импутированное значение:\", features_knn_imputed[0, 0])\n"
   ],
   "id": "dc885526212cbf",
   "outputs": [
    {
     "name": "stdout",
     "output_type": "stream",
     "text": [
      "Истинное значение: 0.8730186113995938\n",
      "Импутированное значение: 1.0959262913919632\n"
     ]
    }
   ],
   "execution_count": 25
  },
  {
   "metadata": {},
   "cell_type": "markdown",
   "source": [
    "Недостаток алгоритма KNN: для того чтобы знать, какие наблюдения наиболее близки к пропущенному значению, необходимо вычислить расстояние между пропущенным\n",
    "значением и каждым отдельным наблюдением. Это разумно в небольших наборах данных, но быстро становится проблематичным, если набор данных содержит миллионы наблюдений."
   ],
   "id": "9e8b237d7ecd0a08"
  },
  {
   "metadata": {},
   "cell_type": "code",
   "outputs": [],
   "execution_count": null,
   "source": "",
   "id": "44d6d80c1851fa1c"
  }
 ],
 "metadata": {
  "kernelspec": {
   "display_name": "Python 3",
   "language": "python",
   "name": "python3"
  },
  "language_info": {
   "codemirror_mode": {
    "name": "ipython",
    "version": 2
   },
   "file_extension": ".py",
   "mimetype": "text/x-python",
   "name": "python",
   "nbconvert_exporter": "python",
   "pygments_lexer": "ipython2",
   "version": "2.7.6"
  }
 },
 "nbformat": 4,
 "nbformat_minor": 5
}
