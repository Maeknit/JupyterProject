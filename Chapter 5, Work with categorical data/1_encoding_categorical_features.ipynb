{
 "cells": [
  {
   "metadata": {},
   "cell_type": "markdown",
   "source": [
    "### Введение\n",
    "Разбиваем объекты на категории не по количеству, а по качеству. <br>\n",
    "Наборы категорий без внутреннего упорядочения называются номинальными, например: <br>\n",
    "- синий, красный, зеленый\n",
    "- мужчина женщина\n",
    "- банан, клубника, яблоко\n",
    "\n",
    "С другой стороны, когда набор категорий имеет некое естественное упорядочение, его называют порядковым, например: <br>\n",
    "- низкий, средний, высокий\n",
    "- молодые, старые\n",
    "- согласен, не согласен\n",
    "\n",
    "Алгоритм k ближайших соседей предоставляет простой пример. Одним из шагов в алгоритме является вычисление расстояний между наблюдениями - часто с использованием евклидова расстояния:\n",
    "$$\n",
    "\\sqrt{\\sum \\limits _{i=1} ^n (x_i-y_i)^2}\n",
    "$$\n",
    "\n",
    "Где x и y - это два наблюдения; i - номер признака наблюдений"
   ],
   "id": "866fa85ee8e8d43a"
  },
  {
   "metadata": {},
   "cell_type": "markdown",
   "source": "Дан признак с номинальными классами, который не имеет внутреннй упорядоченности (например, яблоко, груша, банан)",
   "id": "d1396a772ced8f44"
  },
  {
   "cell_type": "code",
   "id": "initial_id",
   "metadata": {
    "collapsed": true,
    "ExecuteTime": {
     "end_time": "2025-10-13T11:06:17.983901Z",
     "start_time": "2025-10-13T11:06:17.976872Z"
    }
   },
   "source": [
    "import numpy as np\n",
    "from sklearn.preprocessing import LabelBinarizer, MultiLabelBinarizer\n",
    "feature = np.array([[\"Texas\"],\n",
    "                    [\"California\"],\n",
    "                    [\"Texas\"],\n",
    "                    [\"Delaware\"],\n",
    "                    [\"Texas\"]])\n",
    "one_hot = LabelBinarizer() # Сортировка в алфавитном порядке\n",
    "one_hot.fit_transform(feature)"
   ],
   "outputs": [
    {
     "data": {
      "text/plain": [
       "array([[0, 0, 1],\n",
       "       [1, 0, 0],\n",
       "       [0, 0, 1],\n",
       "       [0, 1, 0],\n",
       "       [0, 0, 1]])"
      ]
     },
     "execution_count": 25,
     "metadata": {},
     "output_type": "execute_result"
    }
   ],
   "execution_count": 25
  },
  {
   "metadata": {
    "ExecuteTime": {
     "end_time": "2025-10-13T11:06:18.186848Z",
     "start_time": "2025-10-13T11:06:18.182255Z"
    }
   },
   "cell_type": "code",
   "source": "one_hot.classes_",
   "id": "79e0a3ee9c47e01d",
   "outputs": [
    {
     "data": {
      "text/plain": [
       "array(['California', 'Delaware', 'Texas'], dtype='<U10')"
      ]
     },
     "execution_count": 26,
     "metadata": {},
     "output_type": "execute_result"
    }
   ],
   "execution_count": 26
  },
  {
   "metadata": {
    "ExecuteTime": {
     "end_time": "2025-10-13T11:06:18.330094Z",
     "start_time": "2025-10-13T11:06:18.325220Z"
    }
   },
   "cell_type": "code",
   "source": "one_hot.inverse_transform(one_hot.transform(feature))",
   "id": "b50221559a9c12b0",
   "outputs": [
    {
     "data": {
      "text/plain": [
       "array(['Texas', 'California', 'Texas', 'Delaware', 'Texas'], dtype='<U10')"
      ]
     },
     "execution_count": 27,
     "metadata": {},
     "output_type": "execute_result"
    }
   ],
   "execution_count": 27
  },
  {
   "metadata": {
    "ExecuteTime": {
     "end_time": "2025-10-13T11:06:18.480229Z",
     "start_time": "2025-10-13T11:06:18.470072Z"
    }
   },
   "cell_type": "code",
   "source": [
    "import pandas as pd\n",
    "pd.get_dummies(feature[:,0])"
   ],
   "id": "f952266056d0844a",
   "outputs": [
    {
     "data": {
      "text/plain": [
       "   California  Delaware  Texas\n",
       "0       False     False   True\n",
       "1        True     False  False\n",
       "2       False     False   True\n",
       "3       False      True  False\n",
       "4       False     False   True"
      ],
      "text/html": [
       "<div>\n",
       "<style scoped>\n",
       "    .dataframe tbody tr th:only-of-type {\n",
       "        vertical-align: middle;\n",
       "    }\n",
       "\n",
       "    .dataframe tbody tr th {\n",
       "        vertical-align: top;\n",
       "    }\n",
       "\n",
       "    .dataframe thead th {\n",
       "        text-align: right;\n",
       "    }\n",
       "</style>\n",
       "<table border=\"1\" class=\"dataframe\">\n",
       "  <thead>\n",
       "    <tr style=\"text-align: right;\">\n",
       "      <th></th>\n",
       "      <th>California</th>\n",
       "      <th>Delaware</th>\n",
       "      <th>Texas</th>\n",
       "    </tr>\n",
       "  </thead>\n",
       "  <tbody>\n",
       "    <tr>\n",
       "      <th>0</th>\n",
       "      <td>False</td>\n",
       "      <td>False</td>\n",
       "      <td>True</td>\n",
       "    </tr>\n",
       "    <tr>\n",
       "      <th>1</th>\n",
       "      <td>True</td>\n",
       "      <td>False</td>\n",
       "      <td>False</td>\n",
       "    </tr>\n",
       "    <tr>\n",
       "      <th>2</th>\n",
       "      <td>False</td>\n",
       "      <td>False</td>\n",
       "      <td>True</td>\n",
       "    </tr>\n",
       "    <tr>\n",
       "      <th>3</th>\n",
       "      <td>False</td>\n",
       "      <td>True</td>\n",
       "      <td>False</td>\n",
       "    </tr>\n",
       "    <tr>\n",
       "      <th>4</th>\n",
       "      <td>False</td>\n",
       "      <td>False</td>\n",
       "      <td>True</td>\n",
       "    </tr>\n",
       "  </tbody>\n",
       "</table>\n",
       "</div>"
      ]
     },
     "execution_count": 28,
     "metadata": {},
     "output_type": "execute_result"
    }
   ],
   "execution_count": 28
  },
  {
   "metadata": {
    "ExecuteTime": {
     "end_time": "2025-10-13T11:06:18.637972Z",
     "start_time": "2025-10-13T11:06:18.630662Z"
    }
   },
   "cell_type": "code",
   "source": [
    "# Мультиклассовый признак\n",
    "multiclass_feature = [(\"Texas\", \"Florida\"),\n",
    "                      (\"California\", \"Alabama\"),\n",
    "                      (\"Texas\", \"Florida\"),\n",
    "                      (\"Delaware\", \"Florida\"),\n",
    "                      (\"Texas\", \"Alabama\")]\n",
    "one_hot_multiclass = MultiLabelBinarizer()\n",
    "one_hot_multiclass.fit_transform(multiclass_feature)"
   ],
   "id": "72e92e7839fd5a1e",
   "outputs": [
    {
     "data": {
      "text/plain": [
       "array([[0, 0, 0, 1, 1],\n",
       "       [1, 1, 0, 0, 0],\n",
       "       [0, 0, 0, 1, 1],\n",
       "       [0, 0, 1, 1, 0],\n",
       "       [1, 0, 0, 0, 1]])"
      ]
     },
     "execution_count": 29,
     "metadata": {},
     "output_type": "execute_result"
    }
   ],
   "execution_count": 29
  },
  {
   "metadata": {
    "ExecuteTime": {
     "end_time": "2025-10-13T11:06:18.796379Z",
     "start_time": "2025-10-13T11:06:18.791180Z"
    }
   },
   "cell_type": "code",
   "source": "one_hot_multiclass.classes_",
   "id": "3b3ec2a40d3a4b91",
   "outputs": [
    {
     "data": {
      "text/plain": [
       "array(['Alabama', 'California', 'Delaware', 'Florida', 'Texas'],\n",
       "      dtype=object)"
      ]
     },
     "execution_count": 30,
     "metadata": {},
     "output_type": "execute_result"
    }
   ],
   "execution_count": 30
  },
  {
   "metadata": {},
   "cell_type": "markdown",
   "source": [
    "В книге советуют: после кодирования признака в кодировку с одним активным состоянием часто рекомендуется отбрасывать один из закодированных в результирующей матрице признаков, чтобы избежать линейной зависимости. <br> <br>\n",
    "Пока не понимаю о чем идет речь. Скорее всего в нашей таблице идет перевод категорий в значения 0 либо 1. А в линейных уравнениях это может вызывать проблемы"
   ],
   "id": "4b03136c1dd6618e"
  },
  {
   "metadata": {
    "ExecuteTime": {
     "end_time": "2025-10-13T11:06:19.135079Z",
     "start_time": "2025-10-13T11:06:19.127148Z"
    }
   },
   "cell_type": "code",
   "source": [
    "# Дан порядковый категориальный признак (высокий, средний, низкий)\n",
    "dataframe = pd.DataFrame({\"оценка\": [\"низкая\", \"низкая\", \"средняя\", \"средняя\", \"высокая\"] })\n",
    "scale_mapper = {\"низкая\":1, \"средняя\":2, \"высокая\":3}\n",
    "dataframe[\"оценка\"].map(scale_mapper)"
   ],
   "id": "745fb1dc7de22ccc",
   "outputs": [
    {
     "data": {
      "text/plain": [
       "0    1\n",
       "1    1\n",
       "2    2\n",
       "3    2\n",
       "4    3\n",
       "Name: оценка, dtype: int64"
      ]
     },
     "execution_count": 31,
     "metadata": {},
     "output_type": "execute_result"
    }
   ],
   "execution_count": 31
  },
  {
   "metadata": {
    "ExecuteTime": {
     "end_time": "2025-10-13T11:06:19.305532Z",
     "start_time": "2025-10-13T11:06:19.298863Z"
    }
   },
   "cell_type": "code",
   "source": [
    "from sklearn.feature_extraction import DictVectorizer\n",
    "# Создать словарь\n",
    "data_dict = [{\"красный\": 2, \"синий\": 4},\n",
    "             {\"красный\": 4, \"синий\": 3},\n",
    "             {\"красный\": 1, \"желтый\": 2},\n",
    "             {\"красный\": 2, \"желтый\": 2}]\n",
    "dictvectorizer = DictVectorizer(sparse=False)\n",
    "feature = dictvectorizer.fit_transform(data_dict)\n",
    "feature"
   ],
   "id": "3d9e9aef881aaf8e",
   "outputs": [
    {
     "data": {
      "text/plain": [
       "array([[0., 2., 4.],\n",
       "       [0., 4., 3.],\n",
       "       [2., 1., 0.],\n",
       "       [2., 2., 0.]])"
      ]
     },
     "execution_count": 32,
     "metadata": {},
     "output_type": "execute_result"
    }
   ],
   "execution_count": 32
  },
  {
   "metadata": {
    "ExecuteTime": {
     "end_time": "2025-10-13T11:06:19.575056Z",
     "start_time": "2025-10-13T11:06:19.563996Z"
    }
   },
   "cell_type": "code",
   "source": [
    "features_names = dictvectorizer.get_feature_names_out()\n",
    "pd.DataFrame(feature, columns=features_names)"
   ],
   "id": "bc39d32d596d3eb9",
   "outputs": [
    {
     "data": {
      "text/plain": [
       "   желтый  красный  синий\n",
       "0     0.0      2.0    4.0\n",
       "1     0.0      4.0    3.0\n",
       "2     2.0      1.0    0.0\n",
       "3     2.0      2.0    0.0"
      ],
      "text/html": [
       "<div>\n",
       "<style scoped>\n",
       "    .dataframe tbody tr th:only-of-type {\n",
       "        vertical-align: middle;\n",
       "    }\n",
       "\n",
       "    .dataframe tbody tr th {\n",
       "        vertical-align: top;\n",
       "    }\n",
       "\n",
       "    .dataframe thead th {\n",
       "        text-align: right;\n",
       "    }\n",
       "</style>\n",
       "<table border=\"1\" class=\"dataframe\">\n",
       "  <thead>\n",
       "    <tr style=\"text-align: right;\">\n",
       "      <th></th>\n",
       "      <th>желтый</th>\n",
       "      <th>красный</th>\n",
       "      <th>синий</th>\n",
       "    </tr>\n",
       "  </thead>\n",
       "  <tbody>\n",
       "    <tr>\n",
       "      <th>0</th>\n",
       "      <td>0.0</td>\n",
       "      <td>2.0</td>\n",
       "      <td>4.0</td>\n",
       "    </tr>\n",
       "    <tr>\n",
       "      <th>1</th>\n",
       "      <td>0.0</td>\n",
       "      <td>4.0</td>\n",
       "      <td>3.0</td>\n",
       "    </tr>\n",
       "    <tr>\n",
       "      <th>2</th>\n",
       "      <td>2.0</td>\n",
       "      <td>1.0</td>\n",
       "      <td>0.0</td>\n",
       "    </tr>\n",
       "    <tr>\n",
       "      <th>3</th>\n",
       "      <td>2.0</td>\n",
       "      <td>2.0</td>\n",
       "      <td>0.0</td>\n",
       "    </tr>\n",
       "  </tbody>\n",
       "</table>\n",
       "</div>"
      ]
     },
     "execution_count": 33,
     "metadata": {},
     "output_type": "execute_result"
    }
   ],
   "execution_count": 33
  },
  {
   "metadata": {
    "ExecuteTime": {
     "end_time": "2025-10-13T11:06:19.800744Z",
     "start_time": "2025-10-13T11:06:19.794852Z"
    }
   },
   "cell_type": "code",
   "source": [
    "doc_l_word_count = {\"красный\": 2, \"синий\": 4}\n",
    "doc_2_word_count = {\"красный\": 4, \"синий\": 3}\n",
    "doc_3_word_count = {\"красный\": 1, \"желтый\": 2}\n",
    "doc_4_word_count = {\"красный\": 2, \"желтый\": 2}\n",
    "# Создать список\n",
    "doc_word_counts = [doc_l_word_count, doc_2_word_count, doc_3_word_count, doc_4_word_count]\n",
    "dictvectorizer.fit_transform (doc_word_counts)"
   ],
   "id": "759b973af79301cc",
   "outputs": [
    {
     "data": {
      "text/plain": [
       "array([[0., 2., 4.],\n",
       "       [0., 4., 3.],\n",
       "       [2., 1., 0.],\n",
       "       [2., 2., 0.]])"
      ]
     },
     "execution_count": 34,
     "metadata": {},
     "output_type": "execute_result"
    }
   ],
   "execution_count": 34
  },
  {
   "metadata": {},
   "cell_type": "markdown",
   "source": "Дан категориальный признак содержащий пропущенные значения, которые требуется заменить предсказанными значениями",
   "id": "3159ea1e9d47b084"
  },
  {
   "metadata": {
    "ExecuteTime": {
     "end_time": "2025-10-14T08:42:21.929171Z",
     "start_time": "2025-10-14T08:42:21.883633Z"
    }
   },
   "cell_type": "code",
   "source": [
    "from sklearn.neighbors import KNeighborsClassifier\n",
    "\n",
    "X = np.array([[0, 2.10, 1.45],\n",
    "              [1, 1.18, 1.33],\n",
    "              [0, 1.22, 1.27],\n",
    "              [1, -0.21, -1.19]])\n",
    "\n",
    "X_with_nan = np.array([[np.nan, 0.87, 1.31],\n",
    "                       [np.nan, -0.67, -0.22]])\n",
    "\n",
    "# Обучаем модель: признаки = столбцы 1 и 2, метки = столбец 0\n",
    "сlf = KNeighborsClassifier(n_neighbors=3, weights='distance')\n",
    "trained_model = сlf.fit(X[:, 1:], X[:, 0])\n",
    "\n",
    "# ПРЕДСКАЗЫВАЕМ МЕТКИ для новых ОБЪЕКТОВ (используем ТОЛЬКО признаки!)\n",
    "new_features = X_with_nan[:, 1:]  # ← ключевое исправление!\n",
    "imputed_values = trained_model.predict(new_features)\n",
    "\n",
    "# Собираем полные строки: предсказанные метки + признаки\n",
    "X_with_imputed = np.hstack((imputed_values.reshape(-1, 1), new_features))\n",
    "\n",
    "# Объединяем с исходными данными\n",
    "np.vstack((X_with_imputed, X))"
   ],
   "id": "c61b86b16b564d32",
   "outputs": [
    {
     "data": {
      "text/plain": [
       "array([[ 0.  ,  0.87,  1.31],\n",
       "       [ 1.  , -0.67, -0.22],\n",
       "       [ 0.  ,  2.1 ,  1.45],\n",
       "       [ 1.  ,  1.18,  1.33],\n",
       "       [ 0.  ,  1.22,  1.27],\n",
       "       [ 1.  , -0.21, -1.19]])"
      ]
     },
     "execution_count": 43,
     "metadata": {},
     "output_type": "execute_result"
    }
   ],
   "execution_count": 43
  },
  {
   "metadata": {},
   "cell_type": "markdown",
   "source": "### Работа с несбалансирванными классами",
   "id": "487dc904e6a33971"
  },
  {
   "metadata": {},
   "cell_type": "markdown",
   "source": "Дан вектор целей с очень несбалансированными классами. Решение: собрать больше данных. <br>Если невозможно, то изменить метрические показатели, используемые для оценивания модели. <br>\n",
   "id": "52b13786e5339c90"
  },
  {
   "metadata": {
    "ExecuteTime": {
     "end_time": "2025-10-14T08:51:12.383549Z",
     "start_time": "2025-10-14T08:51:12.109852Z"
    }
   },
   "cell_type": "code",
   "source": [
    "import numpy as np\n",
    "from sklearn.ensemble import RandomForestClassifier\n",
    "from sklearn.datasets import load_iris\n",
    "\n",
    "iris = load_iris()\n",
    "features = iris.data\n",
    "target = iris.target\n",
    "features = features[40:,:]\n",
    "target = target[40:]\n",
    "target = np.where((target == 0), 0, 1)\n",
    "target"
   ],
   "id": "7468603ff865ba23",
   "outputs": [
    {
     "data": {
      "text/plain": [
       "array([0, 0, 0, 0, 0, 0, 0, 0, 0, 0, 1, 1, 1, 1, 1, 1, 1, 1, 1, 1, 1, 1,\n",
       "       1, 1, 1, 1, 1, 1, 1, 1, 1, 1, 1, 1, 1, 1, 1, 1, 1, 1, 1, 1, 1, 1,\n",
       "       1, 1, 1, 1, 1, 1, 1, 1, 1, 1, 1, 1, 1, 1, 1, 1, 1, 1, 1, 1, 1, 1,\n",
       "       1, 1, 1, 1, 1, 1, 1, 1, 1, 1, 1, 1, 1, 1, 1, 1, 1, 1, 1, 1, 1, 1,\n",
       "       1, 1, 1, 1, 1, 1, 1, 1, 1, 1, 1, 1, 1, 1, 1, 1, 1, 1, 1, 1, 1, 1])"
      ]
     },
     "execution_count": 44,
     "metadata": {},
     "output_type": "execute_result"
    }
   ],
   "execution_count": 44
  },
  {
   "metadata": {
    "ExecuteTime": {
     "end_time": "2025-10-14T09:40:50.015016Z",
     "start_time": "2025-10-14T09:40:49.999324Z"
    }
   },
   "cell_type": "code",
   "source": [
    "weights = {0: .9, 1: 0.1}\n",
    "RandomForestClassifier(class_weight= weights)\n",
    "RandomForestClassifier(bootstrap=True, class_weight= weights,\n",
    "                       criterion= 'gini', max_depth= None,\n",
    "                       max_features= 'auto', max_leaf_nodes = None,\n",
    "                       min_impurity_decrease= 0.0, min_samples_leaf= 1,\n",
    "                       min_samples_split = 2,\n",
    "                       min_weight_fraction_leaf= 0.0, n_estimators = 10,\n",
    "                       n_jobs = 1, oob_score= False, random_state= None,\n",
    "                       verbose=0, warm_start=False)\n",
    "i_class0 = np.where(target == 0)[0]\n",
    "i_class1 = np.where(target == 1)[0]\n",
    "n_class0 = len(i_class0)\n",
    "n_class1 = len(i_class1)\n",
    "i_class1_downsampled = np.random.choice(i_class1, size=n_class0, replace=False)\n",
    "np.hstack((target[i_class0], target[i_class1_downsampled]))"
   ],
   "id": "d43d5bd02934f67b",
   "outputs": [
    {
     "data": {
      "text/plain": [
       "array([0, 0, 0, 0, 0, 0, 0, 0, 0, 0, 1, 1, 1, 1, 1, 1, 1, 1, 1, 1])"
      ]
     },
     "execution_count": 46,
     "metadata": {},
     "output_type": "execute_result"
    }
   ],
   "execution_count": 46
  },
  {
   "metadata": {
    "ExecuteTime": {
     "end_time": "2025-10-14T09:41:36.388491Z",
     "start_time": "2025-10-14T09:41:36.338034Z"
    }
   },
   "cell_type": "code",
   "source": "np.vstack((features[i_class0,:], features[i_class1_downsampled,:]))[0:5]",
   "id": "41a353fc36d748c",
   "outputs": [
    {
     "data": {
      "text/plain": [
       "array([[5. , 3.5, 1.3, 0.3],\n",
       "       [4.5, 2.3, 1.3, 0.3],\n",
       "       [4.4, 3.2, 1.3, 0.2],\n",
       "       [5. , 3.5, 1.6, 0.6],\n",
       "       [5.1, 3.8, 1.9, 0.4]])"
      ]
     },
     "execution_count": 47,
     "metadata": {},
     "output_type": "execute_result"
    }
   ],
   "execution_count": 47
  }
 ],
 "metadata": {
  "kernelspec": {
   "display_name": "Python 3",
   "language": "python",
   "name": "python3"
  },
  "language_info": {
   "codemirror_mode": {
    "name": "ipython",
    "version": 2
   },
   "file_extension": ".py",
   "mimetype": "text/x-python",
   "name": "python",
   "nbconvert_exporter": "python",
   "pygments_lexer": "ipython2",
   "version": "2.7.6"
  }
 },
 "nbformat": 4,
 "nbformat_minor": 5
}
